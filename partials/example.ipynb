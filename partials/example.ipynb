{
 "cells": [
  {
   "cell_type": "code",
   "execution_count": 2,
   "metadata": {},
   "outputs": [],
   "source": [
    "import pandas as pd\n",
    "import numpy as np\n",
    "import dask"
   ]
  },
  {
   "cell_type": "markdown",
   "metadata": {},
   "source": [
    "check Markdown\n",
    "---\n",
    "* test mathematics: $b$ is a math `variable`, $b =  {-b \\pm \\sqrt{b^2-4ac} \\over 2a}$\n",
    "* create a lot of nice text here\n",
    "* lorem ipsum dolore"
   ]
  }
 ],
 "metadata": {
  "kernelspec": {
   "display_name": "Python 3.10.7 ('.venv': venv)",
   "language": "python",
   "name": "python3"
  },
  "language_info": {
   "codemirror_mode": {
    "name": "ipython",
    "version": 3
   },
   "file_extension": ".py",
   "mimetype": "text/x-python",
   "name": "python",
   "nbconvert_exporter": "python",
   "pygments_lexer": "ipython3",
   "version": "3.10.7"
  },
  "orig_nbformat": 4,
  "vscode": {
   "interpreter": {
    "hash": "56d48e049c5f38a99814a13d57d9b14733e7babe9121e385a4af376c2ba0d414"
   }
  }
 },
 "nbformat": 4,
 "nbformat_minor": 2
}

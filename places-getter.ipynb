{
 "cells": [
  {
   "cell_type": "code",
   "execution_count": 2,
   "metadata": {},
   "outputs": [
    {
     "name": "stdout",
     "output_type": "stream",
     "text": [
      "\n",
      " API queries_quota: 60 \n",
      "\n"
     ]
    }
   ],
   "source": [
    "from config import Config\n",
    "import googlemaps\n",
    "\n",
    "conf = Config()\n",
    "gClient = googlemaps.Client(key=conf.PLACES_API_KEY)\n"
   ]
  },
  {
   "cell_type": "code",
   "execution_count": 3,
   "metadata": {},
   "outputs": [
    {
     "name": "stdout",
     "output_type": "stream",
     "text": [
      ".. (43)\n"
     ]
    }
   ],
   "source": [
    "from time import sleep\n",
    "\n",
    "I_location = (47.47254804521419, 19.059588492595783)\n",
    "result = gClient.places_nearby(location=I_location,radius=1000,type='bar')\n",
    "bars = result['results']\n",
    "#limited  do while cicle\n",
    "for _ in range(10):\n",
    "    #check for paging token\n",
    "    if 'next_page_token' not in result:\n",
    "        break\n",
    "    # credit to https://stackoverflow.com/a/15452661/8659684\n",
    "    # the docs say, that there is a delay in pages getting public, I guess it is throttling\n",
    "    sleep(2)\n",
    "    print('.',end='')\n",
    "    result = gClient.places_nearby(location=I_location,radius=1000,type='bar',page_token=result['next_page_token'])\n",
    "    bars += result['results']\n",
    "print(f' ({len(bars)})')"
   ]
  },
  {
   "cell_type": "code",
   "execution_count": 4,
   "metadata": {},
   "outputs": [
    {
     "name": "stdout",
     "output_type": "stream",
     "text": [
      "['business_status', 'geometry', 'icon', 'icon_background_color', 'icon_mask_base_uri', 'name', 'opening_hours', 'photos', 'place_id', 'plus_code', 'price_level', 'rating', 'reference', 'scope', 'types', 'user_ratings_total', 'vicinity'] 43\n"
     ]
    }
   ],
   "source": [
    "keys = [k for k in bars[0]]\n",
    "print(keys,len(bars))"
   ]
  },
  {
   "cell_type": "code",
   "execution_count": 5,
   "metadata": {},
   "outputs": [],
   "source": [
    "import haversine as hs\n",
    "import pandas as pd\n",
    "\n",
    "#print(f\"{bar['name']} dist: {hs.haversine(I_location,loc,unit=hs.Unit.METERS):4.5}\")\n",
    "\n",
    "df = pd.DataFrame(bars)"
   ]
  },
  {
   "cell_type": "code",
   "execution_count": 9,
   "metadata": {},
   "outputs": [
    {
     "name": "stdout",
     "output_type": "stream",
     "text": [
      "                                        name                     place_id  \\\n",
      "14                            Eufória terasz  ChIJp5T3ygvdQUcRaWdcRcxDDp0   \n",
      "15                                   Szertár  ChIJnb4U3qvdQUcRxxCi905Ugxc   \n",
      "13                              Kamra Campus  ChIJ7QqCQqzdQUcRcfyFqiSFdJ0   \n",
      "16                                    Spaten  ChIJvUMTaJPdQUcR1qAiVED_4Wg   \n",
      "17                               Karman Club  ChIJBbzOo6zdQUcRJqUVsYRTHLA   \n",
      "0                            Napközi Bisztró  ChIJu2fffK7dQUcRgbC2JH1_I24   \n",
      "18                    Eleven Bistro Budapest  ChIJW2flWgTdQUcR48i7ulRVjbg   \n",
      "19                             Duna Bár Kft.  ChIJawp1OwbdQUcRceXXj0oDeRA   \n",
      "1                                 Pinyó Klub  ChIJZTGpDa3dQUcR1GFtzxxGDak   \n",
      "20                                Nemaza Bár  ChIJDfwjuxfdQUcRh0tk5yohBnI   \n",
      "21                         Nu Buda Jazz Club  ChIJkUBtli3dQUcRuV6y871em2w   \n",
      "22                        Martos Csocsó Klub  ChIJJS9-2FLcQUcRtmAqCfspgX0   \n",
      "2                              Black Dog Pub  ChIJU2nbW63dQUcRiUtmk5Vn6Fw   \n",
      "3                                 Fruitisimo  ChIJjxoxCK7dQUcRPO000x4k6t0   \n",
      "4                            Happy Drink Bar  ChIJcbrFobLdQUcRYLkRKfyx0iU   \n",
      "23                                 Enter Bar  ChIJo2jGxu7dQUcRldnJ-nAm0XA   \n",
      "5                              Oportó Borozó  ChIJU_nhoLLdQUcRP_KIsG03XHE   \n",
      "6                                 Műhely Pub  ChIJs4KbvFLcQUcR4EvAR-w-T_U   \n",
      "24       The office gentleman's club ungaria  ChIJ2wjs0QHdQUcRe-fyL_3S2wY   \n",
      "8                            Clock Brasserie  ChIJK8W3pLLdQUcRzEJS0OPUpNs   \n",
      "26                              Szavanna Ivó  ChIJfRY8rLLdQUcR8UOLFWotN8U   \n",
      "25          Veranda Restaurant Pasta & Pizza  ChIJkSCowgjdQUcRQW-dN6zDK0Q   \n",
      "27                                  ZéHá Pub  ChIJTxDWWMvdQUcRJ9-dlHV1bYw   \n",
      "7                                    Mag Pub  ChIJGbC4r7LdQUcRro4JxRFMQwc   \n",
      "9                       Bercsényi Borozó Bt.  ChIJ70nqpbLdQUcRTpdnjRk1XDc   \n",
      "28                 Millennium Gardens Kantin  ChIJffWXR1zdQUcRahCIN3zsZmU   \n",
      "29                      Ring Casino Pub Kft.  ChIJGfr2ef_cQUcRNTA-LkkOYyY   \n",
      "30                         Café Ponyvaregény  ChIJBZ-CsrLdQUcRL3wo84ddIZc   \n",
      "10                             Sarki Tanszék  ChIJ8dJOkrLdQUcR-VRcQp5-0i0   \n",
      "31                           Program Presszó  ChIJSbo3KrDdQUcRbPHnqd0UJWU   \n",
      "42                                DReamtipps  ChIJQy3McBXdQUcRxSGxlnh38tI   \n",
      "32                                Dandár Bár  ChIJMZs_7N7dQUcRNlhH0dDHC6g   \n",
      "33                                 Borpatika  ChIJa473W03cQUcRuDN_oYkWuAI   \n",
      "34         ONO Poké Bowl & Bar - 11. kerület  ChIJtZbIE5_dQUcR2XZ6EJ9Mu0c   \n",
      "35                Maligán Borüzlet és Borbár  ChIJyyXgI7LdQUcRo32lTcSpONw   \n",
      "36                             DiVino Bartók  ChIJcSTkWC3dQUcRJdxEd3WuxBQ   \n",
      "37                                      zara  ChIJ17PoAbTdQUcRSsZindQMF48   \n",
      "39                                   szimpla  ChIJw3D7cUrdQUcRgT7S4dYTH-Q   \n",
      "38                           Dunapart borozó  ChIJTfDhZ7zdQUcRrBGWOIT_mo4   \n",
      "40  Félpénzes Soproni söröző, kávézó, borozó  ChIJUQkAuZjdQUcRKU4rgQA0FzE   \n",
      "11                     Fapados Söröző Borozó  ChIJ_wXdyrLdQUcRyXQ7KXNmz8g   \n",
      "12                               Szatyor Bár  ChIJqW7SS03cQUcR_zvFgKzQCVU   \n",
      "41                  Balance Bistro&Delicates  ChIJlxuyZgzdQUcRhSUpTG9qSXo   \n",
      "\n",
      "      distance  \n",
      "14  102.174089  \n",
      "15  167.860031  \n",
      "13  372.384304  \n",
      "16  465.693498  \n",
      "17  476.181094  \n",
      "0   596.224899  \n",
      "18  677.485974  \n",
      "19  683.141233  \n",
      "1   686.737340  \n",
      "20  717.420301  \n",
      "21  722.259955  \n",
      "22  748.419101  \n",
      "2   833.588317  \n",
      "3   843.777350  \n",
      "4   847.475002  \n",
      "23  853.001151  \n",
      "5   854.159215  \n",
      "6   863.959853  \n",
      "24  894.564545  \n",
      "8   897.170656  \n",
      "26  899.494228  \n",
      "25  901.948579  \n",
      "27  903.065408  \n",
      "7   906.903302  \n",
      "9   906.903302  \n",
      "28  923.389169  \n",
      "29  927.571021  \n",
      "30  929.799238  \n",
      "10  930.660412  \n",
      "31  952.192640  \n",
      "42  955.040210  \n",
      "32  955.379937  \n",
      "33  957.907040  \n",
      "34  965.947039  \n",
      "35  968.019071  \n",
      "36  970.592488  \n",
      "37  972.857758  \n",
      "39  974.507992  \n",
      "38  974.800640  \n",
      "40  975.696647  \n",
      "11  978.701446  \n",
      "12  984.674610  \n",
      "41  996.061139  \n"
     ]
    }
   ],
   "source": [
    "df['location'] = [(g['location']['lat'],g['location']['lng']) for g in df['geometry']]\n",
    "df['distance'] = [hs.haversine(I_location,g,unit=hs.Unit.METERS) for g in df['location']]\n",
    "df2 = df.sort_values('distance')\n",
    "print(df2[['name','place_id','distance']])"
   ]
  },
  {
   "cell_type": "code",
   "execution_count": null,
   "metadata": {},
   "outputs": [],
   "source": [
    "karman_id = 'ChIJBbzOo6zdQUcRJqUVsYRTHLA'\n",
    "\n",
    "place_result = gClient.place(place_id=karman_id)"
   ]
  },
  {
   "cell_type": "markdown",
   "metadata": {},
   "source": [
    "This can be used for opening hour determination, but it will be a bit more challenging, than the distance calculation.\n"
   ]
  },
  {
   "cell_type": "code",
   "execution_count": 14,
   "metadata": {},
   "outputs": [
    {
     "name": "stdout",
     "output_type": "stream",
     "text": [
      "['Monday: 11:00 AM – 1:00 AM', 'Tuesday: 11:00 AM – 1:00 AM', 'Wednesday: 11:00 AM – 12:00 AM', 'Thursday: 11:00 AM – 2:00 AM', 'Friday: 11:00 AM – 2:00 AM', 'Saturday: Closed', 'Sunday: Closed']\n",
      "{'close': {'date': '2022-11-28', 'day': 1, 'time': '2359', 'truncated': True}, 'open': {'date': '2022-11-28', 'day': 1, 'time': '1100'}}\n",
      "{'close': {'date': '2022-11-22', 'day': 2, 'time': '0100'}, 'open': {'date': '2022-11-22', 'day': 2, 'time': '0000', 'truncated': True}}\n",
      "{'close': {'date': '2022-11-23', 'day': 3, 'time': '0100'}, 'open': {'date': '2022-11-22', 'day': 2, 'time': '1100'}}\n",
      "{'close': {'date': '2022-11-24', 'day': 4, 'time': '0000'}, 'open': {'date': '2022-11-23', 'day': 3, 'time': '1100'}}\n",
      "{'close': {'date': '2022-11-25', 'day': 5, 'time': '0200'}, 'open': {'date': '2022-11-24', 'day': 4, 'time': '1100'}}\n",
      "{'close': {'date': '2022-11-26', 'day': 6, 'time': '0200'}, 'open': {'date': '2022-11-25', 'day': 5, 'time': '1100'}}\n"
     ]
    }
   ],
   "source": [
    "\n",
    "print(place_result['result']['current_opening_hours']['weekday_text'])\n",
    "for opclotimer in place_result['result']['current_opening_hours']['periods']:\n",
    "    print(opclotimer)"
   ]
  }
 ],
 "metadata": {
  "kernelspec": {
   "display_name": "Python 3.10.7 ('.venv': venv)",
   "language": "python",
   "name": "python3"
  },
  "language_info": {
   "codemirror_mode": {
    "name": "ipython",
    "version": 3
   },
   "file_extension": ".py",
   "mimetype": "text/x-python",
   "name": "python",
   "nbconvert_exporter": "python",
   "pygments_lexer": "ipython3",
   "version": "3.10.7"
  },
  "orig_nbformat": 4,
  "vscode": {
   "interpreter": {
    "hash": "56d48e049c5f38a99814a13d57d9b14733e7babe9121e385a4af376c2ba0d414"
   }
  }
 },
 "nbformat": 4,
 "nbformat_minor": 2
}

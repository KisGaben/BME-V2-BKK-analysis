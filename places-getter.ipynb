{
 "cells": [
  {
   "cell_type": "code",
   "execution_count": 1,
   "metadata": {},
   "outputs": [
    {
     "name": "stdout",
     "output_type": "stream",
     "text": [
      "\n",
      " API queries_quota: 60 \n",
      "\n"
     ]
    }
   ],
   "source": [
    "from config import Config\n",
    "import googlemaps\n",
    "\n",
    "conf = Config()\n",
    "gClient = googlemaps.Client(key=conf.PLACES_API_KEY)\n"
   ]
  },
  {
   "cell_type": "code",
   "execution_count": 3,
   "metadata": {},
   "outputs": [
    {
     "name": "stdout",
     "output_type": "stream",
     "text": [
      ".. (43)\n"
     ]
    }
   ],
   "source": [
    "from time import sleep\n",
    "\n",
    "I_location = (47.47254804521419, 19.059588492595783)\n",
    "result = gClient.places_nearby(location=I_location,radius=1000,type='bar')\n",
    "bars = result['results']\n",
    "#limited  do while cicle\n",
    "for _ in range(10):\n",
    "    #check for paging token\n",
    "    if 'next_page_token' not in result:\n",
    "        break\n",
    "    # credit to https://stackoverflow.com/a/15452661/8659684\n",
    "    # the docs say, that there is a delay in pages getting public, I guess it is throttling\n",
    "    sleep(2)\n",
    "    print('.',end='')\n",
    "    result = gClient.places_nearby(location=I_location,radius=1000,type='bar',page_token=result['next_page_token'])\n",
    "    bars += result['results']\n",
    "print(f' ({len(bars)})')"
   ]
  },
  {
   "cell_type": "code",
   "execution_count": 4,
   "metadata": {},
   "outputs": [
    {
     "name": "stdout",
     "output_type": "stream",
     "text": [
      "['business_status', 'geometry', 'icon', 'icon_background_color', 'icon_mask_base_uri', 'name', 'opening_hours', 'photos', 'place_id', 'plus_code', 'price_level', 'rating', 'reference', 'scope', 'types', 'user_ratings_total', 'vicinity'] 43\n"
     ]
    }
   ],
   "source": [
    "keys = [k for k in bars[0]]\n",
    "print(keys,len(bars))"
   ]
  },
  {
   "cell_type": "code",
   "execution_count": 20,
   "metadata": {},
   "outputs": [
    {
     "name": "stdout",
     "output_type": "stream",
     "text": [
      "[(47.4731179, 19.0517008), (47.4766196, 19.0527181), (47.4778761, 19.0517862), (47.4750225, 19.0489757), (47.4775751, 19.0511132), (47.4776598, 19.0511053), (47.47918159999999, 19.0536033), (47.4782658, 19.0509836), (47.4779625, 19.0507383), (47.4782658, 19.0509836), (47.47736859999999, 19.04946589999999), (47.4788332, 19.0504723), (47.47917349999999, 19.05089570000001), (47.47421800000001, 19.0552939), (47.4732224, 19.0586651), (47.47287660000001, 19.0574087), (47.46953670000001, 19.0638944), (47.4765899, 19.057495), (47.4771838, 19.0537391), (47.46719179999999, 19.06404), (47.4781445, 19.0548387), (47.47756999999999, 19.0534937), (47.4787506, 19.0557218), (47.4777779, 19.0512854), (47.468604, 19.0492154), (47.464729, 19.062781), (47.47842929999999, 19.0513712), (47.47692309999999, 19.0494655), (47.4717675, 19.0718194), (47.4787551, 19.0678338), (47.4786493, 19.0511287), (47.4716139, 19.0469956), (47.4763968, 19.0709533), (47.4795447, 19.0521527), (47.4793487, 19.0515917), (47.4747004, 19.0471089), (47.4794139, 19.0516141), (47.4787577, 19.0687072), (47.4798854, 19.0666865), (47.4792437, 19.0512224), (47.4746341, 19.0469791), (47.47661799999999, 19.0477826), (47.477765, 19.0696829)]\n"
     ]
    }
   ],
   "source": [
    "import haversine as hs\n",
    "import pandas as pd\n",
    "\n",
    "#print(f\"{bar['name']} dist: {hs.haversine(I_location,loc,unit=hs.Unit.METERS):4.5}\")\n",
    "\n",
    "df = pd.DataFrame(bars)"
   ]
  },
  {
   "cell_type": "code",
   "execution_count": 32,
   "metadata": {},
   "outputs": [
    {
     "name": "stdout",
     "output_type": "stream",
     "text": [
      "                                        name    distance\n",
      "14                            Eufória terasz  102.174089\n",
      "15                                   Szertár  167.860031\n",
      "13                              Kamra Campus  372.384304\n",
      "16                                    Spaten  465.693498\n",
      "17                               Karman Club  476.181094\n",
      "0                            Napközi Bisztró  596.224899\n",
      "18                    Eleven Bistro Budapest  677.485974\n",
      "19                             Duna Bár Kft.  683.141233\n",
      "1                                 Pinyó Klub  686.737340\n",
      "20                                Nemaza Bár  717.420301\n",
      "21                         Nu Buda Jazz Club  722.259955\n",
      "22                        Martos Csocsó Klub  748.419101\n",
      "2                              Black Dog Pub  833.588317\n",
      "3                                 Fruitisimo  843.777350\n",
      "4                            Happy Drink Bar  847.475002\n",
      "23                                 Enter Bar  853.001151\n",
      "5                              Oportó Borozó  854.159215\n",
      "6                                 Műhely Pub  863.959853\n",
      "24       The office gentleman's club ungaria  894.564545\n",
      "8                            Clock Brasserie  897.170656\n",
      "26                              Szavanna Ivó  899.494228\n",
      "25          Veranda Restaurant Pasta & Pizza  901.948579\n",
      "27                                  ZéHá Pub  903.065408\n",
      "7                                    Mag Pub  906.903302\n",
      "9                       Bercsényi Borozó Bt.  906.903302\n",
      "28                 Millennium Gardens Kantin  923.389169\n",
      "29                      Ring Casino Pub Kft.  927.571021\n",
      "30                         Café Ponyvaregény  929.799238\n",
      "10                             Sarki Tanszék  930.660412\n",
      "31                           Program Presszó  952.192640\n",
      "42                                DReamtipps  955.040210\n",
      "32                                Dandár Bár  955.379937\n",
      "33                                 Borpatika  957.907040\n",
      "34         ONO Poké Bowl & Bar - 11. kerület  965.947039\n",
      "35                Maligán Borüzlet és Borbár  968.019071\n",
      "36                             DiVino Bartók  970.592488\n",
      "37                                      zara  972.857758\n",
      "39                                   szimpla  974.507992\n",
      "38                           Dunapart borozó  974.800640\n",
      "40  Félpénzes Soproni söröző, kávézó, borozó  975.696647\n",
      "11                     Fapados Söröző Borozó  978.701446\n",
      "12                               Szatyor Bár  984.674610\n",
      "41                  Balance Bistro&Delicates  996.061139\n"
     ]
    }
   ],
   "source": [
    "df['location'] = [(g['location']['lat'],g['location']['lng']) for g in df['geometry']]\n",
    "df['distance'] = [hs.haversine(I_location,g,unit=hs.Unit.METERS) for g in df['location']]\n",
    "df2 = df.sort_values('distance')\n",
    "print(df2[['name','distance']])"
   ]
  }
 ],
 "metadata": {
  "kernelspec": {
   "display_name": "Python 3.10.7 ('.venv': venv)",
   "language": "python",
   "name": "python3"
  },
  "language_info": {
   "codemirror_mode": {
    "name": "ipython",
    "version": 3
   },
   "file_extension": ".py",
   "mimetype": "text/x-python",
   "name": "python",
   "nbconvert_exporter": "python",
   "pygments_lexer": "ipython3",
   "version": "3.10.7"
  },
  "orig_nbformat": 4,
  "vscode": {
   "interpreter": {
    "hash": "56d48e049c5f38a99814a13d57d9b14733e7babe9121e385a4af376c2ba0d414"
   }
  }
 },
 "nbformat": 4,
 "nbformat_minor": 2
}

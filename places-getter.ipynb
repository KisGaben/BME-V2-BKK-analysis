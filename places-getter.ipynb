{
 "cells": [
  {
   "cell_type": "code",
   "execution_count": 22,
   "metadata": {},
   "outputs": [
    {
     "name": "stdout",
     "output_type": "stream",
     "text": [
      "\n",
      " API queries_quota: 60 \n",
      "\n"
     ]
    }
   ],
   "source": [
    "from config import Config\n",
    "import googlemaps\n",
    "\n",
    "conf = Config()\n",
    "gClient = googlemaps.Client(key=conf.PLACES_API_KEY)\n"
   ]
  },
  {
   "cell_type": "code",
   "execution_count": 39,
   "metadata": {},
   "outputs": [
    {
     "name": "stdout",
     "output_type": "stream",
     "text": [
      "AW30NDy4ufvl1JzUXHwBxrVkfPlrLB-rgB1Na4NspxjSzYJm_zN3bJMK5yc6ShFRIHHXo7bMgkepyoYFUNvHuG0UE75usSA7x56vBeZW8bajXAr6TcJuZ5vokJOKjnuHHnMextPS1gurOGUOO3maq6QHU2kqQlnNa17eWL0xxTcY-4-Iyma7_f_DHgVJIZ0VfEvD14n-07GMn4jGTNEkeL5t1BZ-HDivN23zr4c3SMAW2ZBVVY8jaAtfy774lVRzUmG9NzqCBDF02Zf0rDPvvsaLI6xVn_rcGoo3JDAMCmQG2Hcc6Ifney-l1q46qO5Ccwux2oQNOsIM_6iBpoHbHqQ89irdXBsvH4vQKBvCPlgDyNWihHJ9E0_enAAMy54OKXjy1EJim0nwRaAWfUW7hnbxp0Wh3SCX1R2btItXDgIOsWASXYdARWk\n"
     ]
    }
   ],
   "source": [
    "from time import sleep\n",
    "\n",
    "\n",
    "I_location = (47.47254804521419, 19.059588492595783)\n",
    "result = gClient.places_nearby(location=I_location,radius=1000,type='bar')\n",
    "bars = result['results']\n",
    "sleep(2)\n",
    "next_page = gClient.places_nearby(location=I_location,radius=1000,type='bar',page_token=result['next_page_token'])\n",
    "bars += next_page['results']\n"
   ]
  },
  {
   "cell_type": "code",
   "execution_count": 41,
   "metadata": {},
   "outputs": [
    {
     "name": "stdout",
     "output_type": "stream",
     "text": [
      "['business_status', 'geometry', 'icon', 'icon_background_color', 'icon_mask_base_uri', 'name', 'opening_hours', 'photos', 'place_id', 'plus_code', 'price_level', 'rating', 'reference', 'scope', 'types', 'user_ratings_total', 'vicinity'] 40\n"
     ]
    }
   ],
   "source": [
    "keys = [k for k in bars[0]]\n",
    "print(keys,len(bars))"
   ]
  },
  {
   "cell_type": "code",
   "execution_count": 40,
   "metadata": {},
   "outputs": [
    {
     "name": "stdout",
     "output_type": "stream",
     "text": [
      "Napközi Bisztró dist: 596.22\n",
      "Pinyó Klub dist: 686.74\n",
      "Black Dog Pub dist: 833.59\n",
      "Fruitisimo dist: 843.78\n",
      "Happy Drink Bar dist: 847.48\n",
      "Oportó Borozó dist: 854.16\n",
      "Műhely Pub dist: 863.96\n",
      "Mag Pub dist: 906.9\n",
      "Clock Brasserie dist: 897.17\n",
      "Bercsényi Borozó Bt. dist: 906.9\n",
      "Sarki Tanszék dist: 930.66\n",
      "Fapados Söröző Borozó dist: 978.7\n",
      "Szatyor Bár dist: 984.67\n",
      "Kamra Campus dist: 372.38\n",
      "Eufória terasz dist: 102.17\n",
      "Szertár dist: 167.86\n",
      "Spaten dist: 465.69\n",
      "Karman Club dist: 476.18\n",
      "Eleven Bistro Budapest dist: 677.49\n",
      "Duna Bár Kft. dist: 683.14\n",
      "Nemaza Bár dist: 717.42\n",
      "Nu Buda Jazz Club dist: 722.26\n",
      "Martos Csocsó Klub dist: 748.42\n",
      "Enter Bar dist: 853.0\n",
      "The office gentleman's club ungaria dist: 894.56\n",
      "Veranda Restaurant Pasta & Pizza dist: 901.95\n",
      "Szavanna Ivó dist: 899.49\n",
      "ZéHá Pub dist: 903.07\n",
      "Millennium Gardens Kantin dist: 923.39\n",
      "Ring Casino Pub Kft. dist: 927.57\n",
      "Café Ponyvaregény dist: 929.8\n",
      "Program Presszó dist: 952.19\n",
      "Dandár Bár dist: 955.38\n",
      "Borpatika dist: 957.91\n",
      "ONO Poké Bowl & Bar - 11. kerület dist: 965.95\n",
      "Maligán Borüzlet és Borbár dist: 968.02\n",
      "DiVino Bartók dist: 970.59\n",
      "zara dist: 972.86\n",
      "Dunapart borozó dist: 974.8\n",
      "szimpla dist: 974.51\n",
      "{'Napközi Bisztró': 1, 'Pinyó Klub': 1, 'Black Dog Pub': 1, 'Fruitisimo': 1, 'Happy Drink Bar': 1, 'Oportó Borozó': 1, 'Műhely Pub': 1, 'Mag Pub': 1, 'Clock Brasserie': 1, 'Bercsényi Borozó Bt.': 1, 'Sarki Tanszék': 1, 'Fapados Söröző Borozó': 1, 'Szatyor Bár': 1, 'Kamra Campus': 1, 'Eufória terasz': 1, 'Szertár': 1, 'Spaten': 1, 'Karman Club': 1, 'Eleven Bistro Budapest': 1, 'Duna Bár Kft.': 1, 'Nemaza Bár': 1, 'Nu Buda Jazz Club': 1, 'Martos Csocsó Klub': 1, 'Enter Bar': 1, \"The office gentleman's club ungaria\": 1, 'Veranda Restaurant Pasta & Pizza': 1, 'Szavanna Ivó': 1, 'ZéHá Pub': 1, 'Millennium Gardens Kantin': 1, 'Ring Casino Pub Kft.': 1, 'Café Ponyvaregény': 1, 'Program Presszó': 1, 'Dandár Bár': 1, 'Borpatika': 1, 'ONO Poké Bowl & Bar - 11. kerület': 1, 'Maligán Borüzlet és Borbár': 1, 'DiVino Bartók': 1, 'zara': 1, 'Dunapart borozó': 1, 'szimpla': 1}\n"
     ]
    }
   ],
   "source": [
    "import haversine as hs\n",
    "bar_hash = dict()\n",
    "for bar in bars:\n",
    "    loc = (bar['geometry']['location']['lat'],bar['geometry']['location']['lng'])\n",
    "    if bar['name'] not in bar_hash:\n",
    "        bar_hash[bar['name']] = 1\n",
    "    else:\n",
    "        bar_hash[bar['name']] += 1\n",
    "    print(f\"{bar['name']} dist: {hs.haversine(I_location,loc,unit=hs.Unit.METERS):4.5}\")\n",
    "\n",
    "print(bar_hash)"
   ]
  }
 ],
 "metadata": {
  "kernelspec": {
   "display_name": "Python 3.10.7 ('.venv': venv)",
   "language": "python",
   "name": "python3"
  },
  "language_info": {
   "codemirror_mode": {
    "name": "ipython",
    "version": 3
   },
   "file_extension": ".py",
   "mimetype": "text/x-python",
   "name": "python",
   "nbconvert_exporter": "python",
   "pygments_lexer": "ipython3",
   "version": "3.10.7"
  },
  "orig_nbformat": 4,
  "vscode": {
   "interpreter": {
    "hash": "56d48e049c5f38a99814a13d57d9b14733e7babe9121e385a4af376c2ba0d414"
   }
  }
 },
 "nbformat": 4,
 "nbformat_minor": 2
}

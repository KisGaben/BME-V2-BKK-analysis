{
 "cells": [
  {
   "cell_type": "code",
   "execution_count": 1,
   "metadata": {},
   "outputs": [
    {
     "name": "stdout",
     "output_type": "stream",
     "text": [
      "\n",
      " API queries_quota: 60 \n",
      "\n"
     ]
    }
   ],
   "source": [
    "from config import Config\n",
    "import googlemaps\n",
    "\n",
    "conf = Config()\n",
    "gClient = googlemaps.Client(key=conf.PLACES_API_KEY)\n"
   ]
  },
  {
   "cell_type": "code",
   "execution_count": 2,
   "metadata": {},
   "outputs": [
    {
     "name": "stdout",
     "output_type": "stream",
     "text": [
      "."
     ]
    },
    {
     "ename": "KeyboardInterrupt",
     "evalue": "",
     "output_type": "error",
     "traceback": [
      "\u001b[1;31m---------------------------------------------------------------------------\u001b[0m",
      "\u001b[1;31mKeyboardInterrupt\u001b[0m                         Traceback (most recent call last)",
      "Cell \u001b[1;32mIn [2], line 15\u001b[0m\n\u001b[0;32m     13\u001b[0m     sleep(\u001b[39m2\u001b[39m)\n\u001b[0;32m     14\u001b[0m     \u001b[39mprint\u001b[39m(\u001b[39m'\u001b[39m\u001b[39m.\u001b[39m\u001b[39m'\u001b[39m,end\u001b[39m=\u001b[39m\u001b[39m'\u001b[39m\u001b[39m'\u001b[39m)\n\u001b[1;32m---> 15\u001b[0m     result \u001b[39m=\u001b[39m gClient\u001b[39m.\u001b[39;49mplaces_nearby(location\u001b[39m=\u001b[39;49mI_location,radius\u001b[39m=\u001b[39;49m\u001b[39m1000\u001b[39;49m,\u001b[39mtype\u001b[39;49m\u001b[39m=\u001b[39;49m\u001b[39m'\u001b[39;49m\u001b[39mbar\u001b[39;49m\u001b[39m'\u001b[39;49m,page_token\u001b[39m=\u001b[39;49mresult[\u001b[39m'\u001b[39;49m\u001b[39mnext_page_token\u001b[39;49m\u001b[39m'\u001b[39;49m])\n\u001b[0;32m     16\u001b[0m     bars \u001b[39m+\u001b[39m\u001b[39m=\u001b[39m result[\u001b[39m'\u001b[39m\u001b[39mresults\u001b[39m\u001b[39m'\u001b[39m]\n\u001b[0;32m     17\u001b[0m \u001b[39mprint\u001b[39m(\u001b[39mf\u001b[39m\u001b[39m'\u001b[39m\u001b[39m (\u001b[39m\u001b[39m{\u001b[39;00m\u001b[39mlen\u001b[39m(bars)\u001b[39m}\u001b[39;00m\u001b[39m)\u001b[39m\u001b[39m'\u001b[39m)\n",
      "File \u001b[1;32md:\\U_targyak\\MSC\\BIG_DATA\\BigDataAssignment-2022\\.venv\\lib\\site-packages\\googlemaps\\client.py:443\u001b[0m, in \u001b[0;36mmake_api_method.<locals>.wrapper\u001b[1;34m(*args, **kwargs)\u001b[0m\n\u001b[0;32m    440\u001b[0m \u001b[39m@functools\u001b[39m\u001b[39m.\u001b[39mwraps(func)\n\u001b[0;32m    441\u001b[0m \u001b[39mdef\u001b[39;00m \u001b[39mwrapper\u001b[39m(\u001b[39m*\u001b[39margs, \u001b[39m*\u001b[39m\u001b[39m*\u001b[39mkwargs):\n\u001b[0;32m    442\u001b[0m     args[\u001b[39m0\u001b[39m]\u001b[39m.\u001b[39m_extra_params \u001b[39m=\u001b[39m kwargs\u001b[39m.\u001b[39mpop(\u001b[39m\"\u001b[39m\u001b[39mextra_params\u001b[39m\u001b[39m\"\u001b[39m, \u001b[39mNone\u001b[39;00m)\n\u001b[1;32m--> 443\u001b[0m     result \u001b[39m=\u001b[39m func(\u001b[39m*\u001b[39margs, \u001b[39m*\u001b[39m\u001b[39m*\u001b[39mkwargs)\n\u001b[0;32m    444\u001b[0m     \u001b[39mtry\u001b[39;00m:\n\u001b[0;32m    445\u001b[0m         \u001b[39mdel\u001b[39;00m args[\u001b[39m0\u001b[39m]\u001b[39m.\u001b[39m_extra_params\n",
      "File \u001b[1;32md:\\U_targyak\\MSC\\BIG_DATA\\BigDataAssignment-2022\\.venv\\lib\\site-packages\\googlemaps\\places.py:331\u001b[0m, in \u001b[0;36mplaces_nearby\u001b[1;34m(client, location, radius, keyword, language, min_price, max_price, name, open_now, rank_by, type, page_token)\u001b[0m\n\u001b[0;32m    326\u001b[0m     \u001b[39melif\u001b[39;00m radius \u001b[39mis\u001b[39;00m \u001b[39mnot\u001b[39;00m \u001b[39mNone\u001b[39;00m:\n\u001b[0;32m    327\u001b[0m         \u001b[39mraise\u001b[39;00m \u001b[39mValueError\u001b[39;00m(\n\u001b[0;32m    328\u001b[0m             \u001b[39m\"\u001b[39m\u001b[39mradius cannot be specified when rank_by is set to \u001b[39m\u001b[39m\"\u001b[39m \u001b[39m\"\u001b[39m\u001b[39mdistance\u001b[39m\u001b[39m\"\u001b[39m\n\u001b[0;32m    329\u001b[0m         )\n\u001b[1;32m--> 331\u001b[0m \u001b[39mreturn\u001b[39;00m _places(\n\u001b[0;32m    332\u001b[0m     client,\n\u001b[0;32m    333\u001b[0m     \u001b[39m\"\u001b[39;49m\u001b[39mnearby\u001b[39;49m\u001b[39m\"\u001b[39;49m,\n\u001b[0;32m    334\u001b[0m     location\u001b[39m=\u001b[39;49mlocation,\n\u001b[0;32m    335\u001b[0m     radius\u001b[39m=\u001b[39;49mradius,\n\u001b[0;32m    336\u001b[0m     keyword\u001b[39m=\u001b[39;49mkeyword,\n\u001b[0;32m    337\u001b[0m     language\u001b[39m=\u001b[39;49mlanguage,\n\u001b[0;32m    338\u001b[0m     min_price\u001b[39m=\u001b[39;49mmin_price,\n\u001b[0;32m    339\u001b[0m     max_price\u001b[39m=\u001b[39;49mmax_price,\n\u001b[0;32m    340\u001b[0m     name\u001b[39m=\u001b[39;49mname,\n\u001b[0;32m    341\u001b[0m     open_now\u001b[39m=\u001b[39;49mopen_now,\n\u001b[0;32m    342\u001b[0m     rank_by\u001b[39m=\u001b[39;49mrank_by,\n\u001b[0;32m    343\u001b[0m     \u001b[39mtype\u001b[39;49m\u001b[39m=\u001b[39;49m\u001b[39mtype\u001b[39;49m,\n\u001b[0;32m    344\u001b[0m     page_token\u001b[39m=\u001b[39;49mpage_token,\n\u001b[0;32m    345\u001b[0m )\n",
      "File \u001b[1;32md:\\U_targyak\\MSC\\BIG_DATA\\BigDataAssignment-2022\\.venv\\lib\\site-packages\\googlemaps\\places.py:396\u001b[0m, in \u001b[0;36m_places\u001b[1;34m(client, url_part, query, location, radius, keyword, language, min_price, max_price, name, open_now, rank_by, type, region, page_token)\u001b[0m\n\u001b[0;32m    393\u001b[0m     params[\u001b[39m\"\u001b[39m\u001b[39mpagetoken\u001b[39m\u001b[39m\"\u001b[39m] \u001b[39m=\u001b[39m page_token\n\u001b[0;32m    395\u001b[0m url \u001b[39m=\u001b[39m \u001b[39m\"\u001b[39m\u001b[39m/maps/api/place/\u001b[39m\u001b[39m%s\u001b[39;00m\u001b[39msearch/json\u001b[39m\u001b[39m\"\u001b[39m \u001b[39m%\u001b[39m url_part\n\u001b[1;32m--> 396\u001b[0m \u001b[39mreturn\u001b[39;00m client\u001b[39m.\u001b[39;49m_request(url, params)\n",
      "File \u001b[1;32md:\\U_targyak\\MSC\\BIG_DATA\\BigDataAssignment-2022\\.venv\\lib\\site-packages\\googlemaps\\client.py:313\u001b[0m, in \u001b[0;36mClient._request\u001b[1;34m(self, url, params, first_request_time, retry_counter, base_url, accepts_clientid, extract_body, requests_kwargs, post_json)\u001b[0m\n\u001b[0;32m    310\u001b[0m     final_requests_kwargs[\u001b[39m\"\u001b[39m\u001b[39mjson\u001b[39m\u001b[39m\"\u001b[39m] \u001b[39m=\u001b[39m post_json\n\u001b[0;32m    312\u001b[0m \u001b[39mtry\u001b[39;00m:\n\u001b[1;32m--> 313\u001b[0m     response \u001b[39m=\u001b[39m requests_method(base_url \u001b[39m+\u001b[39m authed_url,\n\u001b[0;32m    314\u001b[0m                                \u001b[39m*\u001b[39m\u001b[39m*\u001b[39mfinal_requests_kwargs)\n\u001b[0;32m    315\u001b[0m \u001b[39mexcept\u001b[39;00m requests\u001b[39m.\u001b[39mexceptions\u001b[39m.\u001b[39mTimeout:\n\u001b[0;32m    316\u001b[0m     \u001b[39mraise\u001b[39;00m googlemaps\u001b[39m.\u001b[39mexceptions\u001b[39m.\u001b[39mTimeout()\n",
      "File \u001b[1;32md:\\U_targyak\\MSC\\BIG_DATA\\BigDataAssignment-2022\\.venv\\lib\\site-packages\\requests\\sessions.py:600\u001b[0m, in \u001b[0;36mSession.get\u001b[1;34m(self, url, **kwargs)\u001b[0m\n\u001b[0;32m    592\u001b[0m \u001b[39mr\u001b[39m\u001b[39m\"\"\"Sends a GET request. Returns :class:`Response` object.\u001b[39;00m\n\u001b[0;32m    593\u001b[0m \n\u001b[0;32m    594\u001b[0m \u001b[39m:param url: URL for the new :class:`Request` object.\u001b[39;00m\n\u001b[0;32m    595\u001b[0m \u001b[39m:param \\*\\*kwargs: Optional arguments that ``request`` takes.\u001b[39;00m\n\u001b[0;32m    596\u001b[0m \u001b[39m:rtype: requests.Response\u001b[39;00m\n\u001b[0;32m    597\u001b[0m \u001b[39m\"\"\"\u001b[39;00m\n\u001b[0;32m    599\u001b[0m kwargs\u001b[39m.\u001b[39msetdefault(\u001b[39m\"\u001b[39m\u001b[39mallow_redirects\u001b[39m\u001b[39m\"\u001b[39m, \u001b[39mTrue\u001b[39;00m)\n\u001b[1;32m--> 600\u001b[0m \u001b[39mreturn\u001b[39;00m \u001b[39mself\u001b[39m\u001b[39m.\u001b[39mrequest(\u001b[39m\"\u001b[39m\u001b[39mGET\u001b[39m\u001b[39m\"\u001b[39m, url, \u001b[39m*\u001b[39m\u001b[39m*\u001b[39mkwargs)\n",
      "File \u001b[1;32md:\\U_targyak\\MSC\\BIG_DATA\\BigDataAssignment-2022\\.venv\\lib\\site-packages\\requests\\sessions.py:587\u001b[0m, in \u001b[0;36mSession.request\u001b[1;34m(self, method, url, params, data, headers, cookies, files, auth, timeout, allow_redirects, proxies, hooks, stream, verify, cert, json)\u001b[0m\n\u001b[0;32m    582\u001b[0m send_kwargs \u001b[39m=\u001b[39m {\n\u001b[0;32m    583\u001b[0m     \u001b[39m\"\u001b[39m\u001b[39mtimeout\u001b[39m\u001b[39m\"\u001b[39m: timeout,\n\u001b[0;32m    584\u001b[0m     \u001b[39m\"\u001b[39m\u001b[39mallow_redirects\u001b[39m\u001b[39m\"\u001b[39m: allow_redirects,\n\u001b[0;32m    585\u001b[0m }\n\u001b[0;32m    586\u001b[0m send_kwargs\u001b[39m.\u001b[39mupdate(settings)\n\u001b[1;32m--> 587\u001b[0m resp \u001b[39m=\u001b[39m \u001b[39mself\u001b[39m\u001b[39m.\u001b[39msend(prep, \u001b[39m*\u001b[39m\u001b[39m*\u001b[39msend_kwargs)\n\u001b[0;32m    589\u001b[0m \u001b[39mreturn\u001b[39;00m resp\n",
      "File \u001b[1;32md:\\U_targyak\\MSC\\BIG_DATA\\BigDataAssignment-2022\\.venv\\lib\\site-packages\\requests\\sessions.py:701\u001b[0m, in \u001b[0;36mSession.send\u001b[1;34m(self, request, **kwargs)\u001b[0m\n\u001b[0;32m    698\u001b[0m start \u001b[39m=\u001b[39m preferred_clock()\n\u001b[0;32m    700\u001b[0m \u001b[39m# Send the request\u001b[39;00m\n\u001b[1;32m--> 701\u001b[0m r \u001b[39m=\u001b[39m adapter\u001b[39m.\u001b[39msend(request, \u001b[39m*\u001b[39m\u001b[39m*\u001b[39mkwargs)\n\u001b[0;32m    703\u001b[0m \u001b[39m# Total elapsed time of the request (approximately)\u001b[39;00m\n\u001b[0;32m    704\u001b[0m elapsed \u001b[39m=\u001b[39m preferred_clock() \u001b[39m-\u001b[39m start\n",
      "File \u001b[1;32md:\\U_targyak\\MSC\\BIG_DATA\\BigDataAssignment-2022\\.venv\\lib\\site-packages\\requests\\adapters.py:489\u001b[0m, in \u001b[0;36mHTTPAdapter.send\u001b[1;34m(self, request, stream, timeout, verify, cert, proxies)\u001b[0m\n\u001b[0;32m    487\u001b[0m \u001b[39mtry\u001b[39;00m:\n\u001b[0;32m    488\u001b[0m     \u001b[39mif\u001b[39;00m \u001b[39mnot\u001b[39;00m chunked:\n\u001b[1;32m--> 489\u001b[0m         resp \u001b[39m=\u001b[39m conn\u001b[39m.\u001b[39;49murlopen(\n\u001b[0;32m    490\u001b[0m             method\u001b[39m=\u001b[39;49mrequest\u001b[39m.\u001b[39;49mmethod,\n\u001b[0;32m    491\u001b[0m             url\u001b[39m=\u001b[39;49murl,\n\u001b[0;32m    492\u001b[0m             body\u001b[39m=\u001b[39;49mrequest\u001b[39m.\u001b[39;49mbody,\n\u001b[0;32m    493\u001b[0m             headers\u001b[39m=\u001b[39;49mrequest\u001b[39m.\u001b[39;49mheaders,\n\u001b[0;32m    494\u001b[0m             redirect\u001b[39m=\u001b[39;49m\u001b[39mFalse\u001b[39;49;00m,\n\u001b[0;32m    495\u001b[0m             assert_same_host\u001b[39m=\u001b[39;49m\u001b[39mFalse\u001b[39;49;00m,\n\u001b[0;32m    496\u001b[0m             preload_content\u001b[39m=\u001b[39;49m\u001b[39mFalse\u001b[39;49;00m,\n\u001b[0;32m    497\u001b[0m             decode_content\u001b[39m=\u001b[39;49m\u001b[39mFalse\u001b[39;49;00m,\n\u001b[0;32m    498\u001b[0m             retries\u001b[39m=\u001b[39;49m\u001b[39mself\u001b[39;49m\u001b[39m.\u001b[39;49mmax_retries,\n\u001b[0;32m    499\u001b[0m             timeout\u001b[39m=\u001b[39;49mtimeout,\n\u001b[0;32m    500\u001b[0m         )\n\u001b[0;32m    502\u001b[0m     \u001b[39m# Send the request.\u001b[39;00m\n\u001b[0;32m    503\u001b[0m     \u001b[39melse\u001b[39;00m:\n\u001b[0;32m    504\u001b[0m         \u001b[39mif\u001b[39;00m \u001b[39mhasattr\u001b[39m(conn, \u001b[39m\"\u001b[39m\u001b[39mproxy_pool\u001b[39m\u001b[39m\"\u001b[39m):\n",
      "File \u001b[1;32md:\\U_targyak\\MSC\\BIG_DATA\\BigDataAssignment-2022\\.venv\\lib\\site-packages\\urllib3\\connectionpool.py:703\u001b[0m, in \u001b[0;36mHTTPConnectionPool.urlopen\u001b[1;34m(self, method, url, body, headers, retries, redirect, assert_same_host, timeout, pool_timeout, release_conn, chunked, body_pos, **response_kw)\u001b[0m\n\u001b[0;32m    700\u001b[0m     \u001b[39mself\u001b[39m\u001b[39m.\u001b[39m_prepare_proxy(conn)\n\u001b[0;32m    702\u001b[0m \u001b[39m# Make the request on the httplib connection object.\u001b[39;00m\n\u001b[1;32m--> 703\u001b[0m httplib_response \u001b[39m=\u001b[39m \u001b[39mself\u001b[39;49m\u001b[39m.\u001b[39;49m_make_request(\n\u001b[0;32m    704\u001b[0m     conn,\n\u001b[0;32m    705\u001b[0m     method,\n\u001b[0;32m    706\u001b[0m     url,\n\u001b[0;32m    707\u001b[0m     timeout\u001b[39m=\u001b[39;49mtimeout_obj,\n\u001b[0;32m    708\u001b[0m     body\u001b[39m=\u001b[39;49mbody,\n\u001b[0;32m    709\u001b[0m     headers\u001b[39m=\u001b[39;49mheaders,\n\u001b[0;32m    710\u001b[0m     chunked\u001b[39m=\u001b[39;49mchunked,\n\u001b[0;32m    711\u001b[0m )\n\u001b[0;32m    713\u001b[0m \u001b[39m# If we're going to release the connection in ``finally:``, then\u001b[39;00m\n\u001b[0;32m    714\u001b[0m \u001b[39m# the response doesn't need to know about the connection. Otherwise\u001b[39;00m\n\u001b[0;32m    715\u001b[0m \u001b[39m# it will also try to release it and we'll have a double-release\u001b[39;00m\n\u001b[0;32m    716\u001b[0m \u001b[39m# mess.\u001b[39;00m\n\u001b[0;32m    717\u001b[0m response_conn \u001b[39m=\u001b[39m conn \u001b[39mif\u001b[39;00m \u001b[39mnot\u001b[39;00m release_conn \u001b[39melse\u001b[39;00m \u001b[39mNone\u001b[39;00m\n",
      "File \u001b[1;32md:\\U_targyak\\MSC\\BIG_DATA\\BigDataAssignment-2022\\.venv\\lib\\site-packages\\urllib3\\connectionpool.py:449\u001b[0m, in \u001b[0;36mHTTPConnectionPool._make_request\u001b[1;34m(self, conn, method, url, timeout, chunked, **httplib_request_kw)\u001b[0m\n\u001b[0;32m    444\u001b[0m             httplib_response \u001b[39m=\u001b[39m conn\u001b[39m.\u001b[39mgetresponse()\n\u001b[0;32m    445\u001b[0m         \u001b[39mexcept\u001b[39;00m \u001b[39mBaseException\u001b[39;00m \u001b[39mas\u001b[39;00m e:\n\u001b[0;32m    446\u001b[0m             \u001b[39m# Remove the TypeError from the exception chain in\u001b[39;00m\n\u001b[0;32m    447\u001b[0m             \u001b[39m# Python 3 (including for exceptions like SystemExit).\u001b[39;00m\n\u001b[0;32m    448\u001b[0m             \u001b[39m# Otherwise it looks like a bug in the code.\u001b[39;00m\n\u001b[1;32m--> 449\u001b[0m             six\u001b[39m.\u001b[39;49mraise_from(e, \u001b[39mNone\u001b[39;49;00m)\n\u001b[0;32m    450\u001b[0m \u001b[39mexcept\u001b[39;00m (SocketTimeout, BaseSSLError, SocketError) \u001b[39mas\u001b[39;00m e:\n\u001b[0;32m    451\u001b[0m     \u001b[39mself\u001b[39m\u001b[39m.\u001b[39m_raise_timeout(err\u001b[39m=\u001b[39me, url\u001b[39m=\u001b[39murl, timeout_value\u001b[39m=\u001b[39mread_timeout)\n",
      "File \u001b[1;32m<string>:3\u001b[0m, in \u001b[0;36mraise_from\u001b[1;34m(value, from_value)\u001b[0m\n",
      "File \u001b[1;32md:\\U_targyak\\MSC\\BIG_DATA\\BigDataAssignment-2022\\.venv\\lib\\site-packages\\urllib3\\connectionpool.py:444\u001b[0m, in \u001b[0;36mHTTPConnectionPool._make_request\u001b[1;34m(self, conn, method, url, timeout, chunked, **httplib_request_kw)\u001b[0m\n\u001b[0;32m    441\u001b[0m \u001b[39mexcept\u001b[39;00m \u001b[39mTypeError\u001b[39;00m:\n\u001b[0;32m    442\u001b[0m     \u001b[39m# Python 3\u001b[39;00m\n\u001b[0;32m    443\u001b[0m     \u001b[39mtry\u001b[39;00m:\n\u001b[1;32m--> 444\u001b[0m         httplib_response \u001b[39m=\u001b[39m conn\u001b[39m.\u001b[39;49mgetresponse()\n\u001b[0;32m    445\u001b[0m     \u001b[39mexcept\u001b[39;00m \u001b[39mBaseException\u001b[39;00m \u001b[39mas\u001b[39;00m e:\n\u001b[0;32m    446\u001b[0m         \u001b[39m# Remove the TypeError from the exception chain in\u001b[39;00m\n\u001b[0;32m    447\u001b[0m         \u001b[39m# Python 3 (including for exceptions like SystemExit).\u001b[39;00m\n\u001b[0;32m    448\u001b[0m         \u001b[39m# Otherwise it looks like a bug in the code.\u001b[39;00m\n\u001b[0;32m    449\u001b[0m         six\u001b[39m.\u001b[39mraise_from(e, \u001b[39mNone\u001b[39;00m)\n",
      "File \u001b[1;32mC:\\Python310\\lib\\http\\client.py:1374\u001b[0m, in \u001b[0;36mHTTPConnection.getresponse\u001b[1;34m(self)\u001b[0m\n\u001b[0;32m   1372\u001b[0m \u001b[39mtry\u001b[39;00m:\n\u001b[0;32m   1373\u001b[0m     \u001b[39mtry\u001b[39;00m:\n\u001b[1;32m-> 1374\u001b[0m         response\u001b[39m.\u001b[39;49mbegin()\n\u001b[0;32m   1375\u001b[0m     \u001b[39mexcept\u001b[39;00m \u001b[39mConnectionError\u001b[39;00m:\n\u001b[0;32m   1376\u001b[0m         \u001b[39mself\u001b[39m\u001b[39m.\u001b[39mclose()\n",
      "File \u001b[1;32mC:\\Python310\\lib\\http\\client.py:318\u001b[0m, in \u001b[0;36mHTTPResponse.begin\u001b[1;34m(self)\u001b[0m\n\u001b[0;32m    316\u001b[0m \u001b[39m# read until we get a non-100 response\u001b[39;00m\n\u001b[0;32m    317\u001b[0m \u001b[39mwhile\u001b[39;00m \u001b[39mTrue\u001b[39;00m:\n\u001b[1;32m--> 318\u001b[0m     version, status, reason \u001b[39m=\u001b[39m \u001b[39mself\u001b[39;49m\u001b[39m.\u001b[39;49m_read_status()\n\u001b[0;32m    319\u001b[0m     \u001b[39mif\u001b[39;00m status \u001b[39m!=\u001b[39m CONTINUE:\n\u001b[0;32m    320\u001b[0m         \u001b[39mbreak\u001b[39;00m\n",
      "File \u001b[1;32mC:\\Python310\\lib\\http\\client.py:279\u001b[0m, in \u001b[0;36mHTTPResponse._read_status\u001b[1;34m(self)\u001b[0m\n\u001b[0;32m    278\u001b[0m \u001b[39mdef\u001b[39;00m \u001b[39m_read_status\u001b[39m(\u001b[39mself\u001b[39m):\n\u001b[1;32m--> 279\u001b[0m     line \u001b[39m=\u001b[39m \u001b[39mstr\u001b[39m(\u001b[39mself\u001b[39;49m\u001b[39m.\u001b[39;49mfp\u001b[39m.\u001b[39;49mreadline(_MAXLINE \u001b[39m+\u001b[39;49m \u001b[39m1\u001b[39;49m), \u001b[39m\"\u001b[39m\u001b[39miso-8859-1\u001b[39m\u001b[39m\"\u001b[39m)\n\u001b[0;32m    280\u001b[0m     \u001b[39mif\u001b[39;00m \u001b[39mlen\u001b[39m(line) \u001b[39m>\u001b[39m _MAXLINE:\n\u001b[0;32m    281\u001b[0m         \u001b[39mraise\u001b[39;00m LineTooLong(\u001b[39m\"\u001b[39m\u001b[39mstatus line\u001b[39m\u001b[39m\"\u001b[39m)\n",
      "File \u001b[1;32mC:\\Python310\\lib\\socket.py:705\u001b[0m, in \u001b[0;36mSocketIO.readinto\u001b[1;34m(self, b)\u001b[0m\n\u001b[0;32m    703\u001b[0m \u001b[39mwhile\u001b[39;00m \u001b[39mTrue\u001b[39;00m:\n\u001b[0;32m    704\u001b[0m     \u001b[39mtry\u001b[39;00m:\n\u001b[1;32m--> 705\u001b[0m         \u001b[39mreturn\u001b[39;00m \u001b[39mself\u001b[39;49m\u001b[39m.\u001b[39;49m_sock\u001b[39m.\u001b[39;49mrecv_into(b)\n\u001b[0;32m    706\u001b[0m     \u001b[39mexcept\u001b[39;00m timeout:\n\u001b[0;32m    707\u001b[0m         \u001b[39mself\u001b[39m\u001b[39m.\u001b[39m_timeout_occurred \u001b[39m=\u001b[39m \u001b[39mTrue\u001b[39;00m\n",
      "File \u001b[1;32mC:\\Python310\\lib\\ssl.py:1274\u001b[0m, in \u001b[0;36mSSLSocket.recv_into\u001b[1;34m(self, buffer, nbytes, flags)\u001b[0m\n\u001b[0;32m   1270\u001b[0m     \u001b[39mif\u001b[39;00m flags \u001b[39m!=\u001b[39m \u001b[39m0\u001b[39m:\n\u001b[0;32m   1271\u001b[0m         \u001b[39mraise\u001b[39;00m \u001b[39mValueError\u001b[39;00m(\n\u001b[0;32m   1272\u001b[0m           \u001b[39m\"\u001b[39m\u001b[39mnon-zero flags not allowed in calls to recv_into() on \u001b[39m\u001b[39m%s\u001b[39;00m\u001b[39m\"\u001b[39m \u001b[39m%\u001b[39m\n\u001b[0;32m   1273\u001b[0m           \u001b[39mself\u001b[39m\u001b[39m.\u001b[39m\u001b[39m__class__\u001b[39m)\n\u001b[1;32m-> 1274\u001b[0m     \u001b[39mreturn\u001b[39;00m \u001b[39mself\u001b[39;49m\u001b[39m.\u001b[39;49mread(nbytes, buffer)\n\u001b[0;32m   1275\u001b[0m \u001b[39melse\u001b[39;00m:\n\u001b[0;32m   1276\u001b[0m     \u001b[39mreturn\u001b[39;00m \u001b[39msuper\u001b[39m()\u001b[39m.\u001b[39mrecv_into(buffer, nbytes, flags)\n",
      "File \u001b[1;32mC:\\Python310\\lib\\ssl.py:1130\u001b[0m, in \u001b[0;36mSSLSocket.read\u001b[1;34m(self, len, buffer)\u001b[0m\n\u001b[0;32m   1128\u001b[0m \u001b[39mtry\u001b[39;00m:\n\u001b[0;32m   1129\u001b[0m     \u001b[39mif\u001b[39;00m buffer \u001b[39mis\u001b[39;00m \u001b[39mnot\u001b[39;00m \u001b[39mNone\u001b[39;00m:\n\u001b[1;32m-> 1130\u001b[0m         \u001b[39mreturn\u001b[39;00m \u001b[39mself\u001b[39;49m\u001b[39m.\u001b[39;49m_sslobj\u001b[39m.\u001b[39;49mread(\u001b[39mlen\u001b[39;49m, buffer)\n\u001b[0;32m   1131\u001b[0m     \u001b[39melse\u001b[39;00m:\n\u001b[0;32m   1132\u001b[0m         \u001b[39mreturn\u001b[39;00m \u001b[39mself\u001b[39m\u001b[39m.\u001b[39m_sslobj\u001b[39m.\u001b[39mread(\u001b[39mlen\u001b[39m)\n",
      "\u001b[1;31mKeyboardInterrupt\u001b[0m: "
     ]
    }
   ],
   "source": [
    "from time import sleep\n",
    "\n",
    "I_location = (47.47254804521419, 19.059588492595783)\n",
    "result = gClient.places_nearby(location=I_location,radius=1000,type='bar')\n",
    "bars = result['results']\n",
    "#limited  do while cicle\n",
    "for _ in range(10):\n",
    "    #check for paging token\n",
    "    if 'next_page_token' not in result:\n",
    "        break\n",
    "    # credit to https://stackoverflow.com/a/15452661/8659684\n",
    "    # the docs say, that there is a delay in pages getting public, I guess it is throttling\n",
    "    sleep(2)\n",
    "    print('.',end='')\n",
    "    result = gClient.places_nearby(location=I_location,radius=1000,type='bar',page_token=result['next_page_token'])\n",
    "    bars += result['results']\n",
    "print(f' ({len(bars)})')"
   ]
  },
  {
   "cell_type": "code",
   "execution_count": null,
   "metadata": {},
   "outputs": [
    {
     "name": "stdout",
     "output_type": "stream",
     "text": [
      "['business_status', 'geometry', 'icon', 'icon_background_color', 'icon_mask_base_uri', 'name', 'opening_hours', 'photos', 'place_id', 'plus_code', 'price_level', 'rating', 'reference', 'scope', 'types', 'user_ratings_total', 'vicinity'] 43\n"
     ]
    }
   ],
   "source": [
    "keys = [k for k in bars[0]]\n",
    "print(keys,len(bars))"
   ]
  },
  {
   "cell_type": "code",
   "execution_count": null,
   "metadata": {},
   "outputs": [],
   "source": [
    "import haversine as hs\n",
    "import pandas as pd\n",
    "\n",
    "#print(f\"{bar['name']} dist: {hs.haversine(I_location,loc,unit=hs.Unit.METERS):4.5}\")\n",
    "\n",
    "df = pd.DataFrame(bars)"
   ]
  },
  {
   "cell_type": "code",
   "execution_count": null,
   "metadata": {},
   "outputs": [
    {
     "name": "stdout",
     "output_type": "stream",
     "text": [
      "                                        name                     place_id  \\\n",
      "14                            Eufória terasz  ChIJp5T3ygvdQUcRaWdcRcxDDp0   \n",
      "15                                   Szertár  ChIJnb4U3qvdQUcRxxCi905Ugxc   \n",
      "13                              Kamra Campus  ChIJ7QqCQqzdQUcRcfyFqiSFdJ0   \n",
      "16                                    Spaten  ChIJvUMTaJPdQUcR1qAiVED_4Wg   \n",
      "17                               Karman Club  ChIJBbzOo6zdQUcRJqUVsYRTHLA   \n",
      "0                            Napközi Bisztró  ChIJu2fffK7dQUcRgbC2JH1_I24   \n",
      "18                    Eleven Bistro Budapest  ChIJW2flWgTdQUcR48i7ulRVjbg   \n",
      "19                             Duna Bár Kft.  ChIJawp1OwbdQUcRceXXj0oDeRA   \n",
      "1                                 Pinyó Klub  ChIJZTGpDa3dQUcR1GFtzxxGDak   \n",
      "20                                Nemaza Bár  ChIJDfwjuxfdQUcRh0tk5yohBnI   \n",
      "21                         Nu Buda Jazz Club  ChIJkUBtli3dQUcRuV6y871em2w   \n",
      "22                        Martos Csocsó Klub  ChIJJS9-2FLcQUcRtmAqCfspgX0   \n",
      "2                              Black Dog Pub  ChIJU2nbW63dQUcRiUtmk5Vn6Fw   \n",
      "3                                 Fruitisimo  ChIJjxoxCK7dQUcRPO000x4k6t0   \n",
      "4                            Happy Drink Bar  ChIJcbrFobLdQUcRYLkRKfyx0iU   \n",
      "23                                 Enter Bar  ChIJo2jGxu7dQUcRldnJ-nAm0XA   \n",
      "5                              Oportó Borozó  ChIJU_nhoLLdQUcRP_KIsG03XHE   \n",
      "6                                 Műhely Pub  ChIJs4KbvFLcQUcR4EvAR-w-T_U   \n",
      "24       The office gentleman's club ungaria  ChIJ2wjs0QHdQUcRe-fyL_3S2wY   \n",
      "8                            Clock Brasserie  ChIJK8W3pLLdQUcRzEJS0OPUpNs   \n",
      "26                              Szavanna Ivó  ChIJfRY8rLLdQUcR8UOLFWotN8U   \n",
      "25          Veranda Restaurant Pasta & Pizza  ChIJkSCowgjdQUcRQW-dN6zDK0Q   \n",
      "27                                  ZéHá Pub  ChIJTxDWWMvdQUcRJ9-dlHV1bYw   \n",
      "7                                    Mag Pub  ChIJGbC4r7LdQUcRro4JxRFMQwc   \n",
      "9                       Bercsényi Borozó Bt.  ChIJ70nqpbLdQUcRTpdnjRk1XDc   \n",
      "28                 Millennium Gardens Kantin  ChIJffWXR1zdQUcRahCIN3zsZmU   \n",
      "29                      Ring Casino Pub Kft.  ChIJGfr2ef_cQUcRNTA-LkkOYyY   \n",
      "30                         Café Ponyvaregény  ChIJBZ-CsrLdQUcRL3wo84ddIZc   \n",
      "10                             Sarki Tanszék  ChIJ8dJOkrLdQUcR-VRcQp5-0i0   \n",
      "31                           Program Presszó  ChIJSbo3KrDdQUcRbPHnqd0UJWU   \n",
      "42                                DReamtipps  ChIJQy3McBXdQUcRxSGxlnh38tI   \n",
      "32                                Dandár Bár  ChIJMZs_7N7dQUcRNlhH0dDHC6g   \n",
      "33                                 Borpatika  ChIJa473W03cQUcRuDN_oYkWuAI   \n",
      "34         ONO Poké Bowl & Bar - 11. kerület  ChIJtZbIE5_dQUcR2XZ6EJ9Mu0c   \n",
      "35                Maligán Borüzlet és Borbár  ChIJyyXgI7LdQUcRo32lTcSpONw   \n",
      "36                             DiVino Bartók  ChIJcSTkWC3dQUcRJdxEd3WuxBQ   \n",
      "37                                      zara  ChIJ17PoAbTdQUcRSsZindQMF48   \n",
      "39                                   szimpla  ChIJw3D7cUrdQUcRgT7S4dYTH-Q   \n",
      "38                           Dunapart borozó  ChIJTfDhZ7zdQUcRrBGWOIT_mo4   \n",
      "40  Félpénzes Soproni söröző, kávézó, borozó  ChIJUQkAuZjdQUcRKU4rgQA0FzE   \n",
      "11                     Fapados Söröző Borozó  ChIJ_wXdyrLdQUcRyXQ7KXNmz8g   \n",
      "12                               Szatyor Bár  ChIJqW7SS03cQUcR_zvFgKzQCVU   \n",
      "41                  Balance Bistro&Delicates  ChIJlxuyZgzdQUcRhSUpTG9qSXo   \n",
      "\n",
      "      distance  \n",
      "14  102.174089  \n",
      "15  167.860031  \n",
      "13  372.384304  \n",
      "16  465.693498  \n",
      "17  476.181094  \n",
      "0   596.224899  \n",
      "18  677.485974  \n",
      "19  683.141233  \n",
      "1   686.737340  \n",
      "20  717.420301  \n",
      "21  722.259955  \n",
      "22  748.419101  \n",
      "2   833.588317  \n",
      "3   843.777350  \n",
      "4   847.475002  \n",
      "23  853.001151  \n",
      "5   854.159215  \n",
      "6   863.959853  \n",
      "24  894.564545  \n",
      "8   897.170656  \n",
      "26  899.494228  \n",
      "25  901.948579  \n",
      "27  903.065408  \n",
      "7   906.903302  \n",
      "9   906.903302  \n",
      "28  923.389169  \n",
      "29  927.571021  \n",
      "30  929.799238  \n",
      "10  930.660412  \n",
      "31  952.192640  \n",
      "42  955.040210  \n",
      "32  955.379937  \n",
      "33  957.907040  \n",
      "34  965.947039  \n",
      "35  968.019071  \n",
      "36  970.592488  \n",
      "37  972.857758  \n",
      "39  974.507992  \n",
      "38  974.800640  \n",
      "40  975.696647  \n",
      "11  978.701446  \n",
      "12  984.674610  \n",
      "41  996.061139  \n"
     ]
    }
   ],
   "source": [
    "df['location'] = [(g['location']['lat'],g['location']['lng']) for g in df['geometry']]\n",
    "df['distance'] = [hs.haversine(I_location,g,unit=hs.Unit.METERS) for g in df['location']]\n",
    "df2 = df.sort_values('distance')\n",
    "print(df2[['name','place_id','distance']])"
   ]
  },
  {
   "cell_type": "code",
   "execution_count": null,
   "metadata": {},
   "outputs": [],
   "source": [
    "karman_id = 'ChIJBbzOo6zdQUcRJqUVsYRTHLA'\n",
    "\n",
    "place_result = gClient.place(place_id=karman_id)"
   ]
  },
  {
   "cell_type": "markdown",
   "metadata": {},
   "source": [
    "This can be used for opening hour determination, but it will be a bit more challenging, than the distance calculation.\n"
   ]
  },
  {
   "cell_type": "code",
   "execution_count": null,
   "metadata": {},
   "outputs": [
    {
     "name": "stdout",
     "output_type": "stream",
     "text": [
      "['Monday: 11:00 AM – 1:00 AM', 'Tuesday: 11:00 AM – 1:00 AM', 'Wednesday: 11:00 AM – 12:00 AM', 'Thursday: 11:00 AM – 2:00 AM', 'Friday: 11:00 AM – 2:00 AM', 'Saturday: Closed', 'Sunday: Closed']\n",
      "{'close': {'date': '2022-11-28', 'day': 1, 'time': '2359', 'truncated': True}, 'open': {'date': '2022-11-28', 'day': 1, 'time': '1100'}}\n",
      "{'close': {'date': '2022-11-22', 'day': 2, 'time': '0100'}, 'open': {'date': '2022-11-22', 'day': 2, 'time': '0000', 'truncated': True}}\n",
      "{'close': {'date': '2022-11-23', 'day': 3, 'time': '0100'}, 'open': {'date': '2022-11-22', 'day': 2, 'time': '1100'}}\n",
      "{'close': {'date': '2022-11-24', 'day': 4, 'time': '0000'}, 'open': {'date': '2022-11-23', 'day': 3, 'time': '1100'}}\n",
      "{'close': {'date': '2022-11-25', 'day': 5, 'time': '0200'}, 'open': {'date': '2022-11-24', 'day': 4, 'time': '1100'}}\n",
      "{'close': {'date': '2022-11-26', 'day': 6, 'time': '0200'}, 'open': {'date': '2022-11-25', 'day': 5, 'time': '1100'}}\n"
     ]
    }
   ],
   "source": [
    "\n",
    "print(place_result['result']['current_opening_hours']['weekday_text'])\n",
    "for opclotimer in place_result['result']['current_opening_hours']['periods']:\n",
    "    print(opclotimer)"
   ]
  },
  {
   "cell_type": "code",
   "execution_count": 29,
   "metadata": {},
   "outputs": [
    {
     "name": "stdout",
     "output_type": "stream",
     "text": [
      "\n",
      " API queries_quota: 60 \n",
      "\n"
     ]
    }
   ],
   "source": [
    "import src.Places as plc\n",
    "from importlib import reload\n",
    "import pandas as pd\n",
    "\n",
    "reload(plc)\n",
    "df = pd.DataFrame({'stop_lat':[47.47254804521419,47.47254804521419],'stop_lon':[19.059588492595783,19.059588492595783],'radius':[300,2000]})\n",
    "\n",
    "client = plc.Places()"
   ]
  },
  {
   "cell_type": "code",
   "execution_count": 23,
   "metadata": {},
   "outputs": [
    {
     "name": "stderr",
     "output_type": "stream",
     "text": [
      "100%|██████████| 2/2 [00:08<00:00,  4.44s/it]\n"
     ]
    }
   ],
   "source": [
    "res = client.get_bars_batch(df)"
   ]
  },
  {
   "cell_type": "code",
   "execution_count": 24,
   "metadata": {},
   "outputs": [
    {
     "data": {
      "text/html": [
       "<div>\n",
       "<style scoped>\n",
       "    .dataframe tbody tr th:only-of-type {\n",
       "        vertical-align: middle;\n",
       "    }\n",
       "\n",
       "    .dataframe tbody tr th {\n",
       "        vertical-align: top;\n",
       "    }\n",
       "\n",
       "    .dataframe thead th {\n",
       "        text-align: right;\n",
       "    }\n",
       "</style>\n",
       "<table border=\"1\" class=\"dataframe\">\n",
       "  <thead>\n",
       "    <tr style=\"text-align: right;\">\n",
       "      <th></th>\n",
       "      <th>business_status</th>\n",
       "      <th>geometry</th>\n",
       "      <th>name</th>\n",
       "      <th>place_id</th>\n",
       "      <th>plus_code</th>\n",
       "      <th>price_level</th>\n",
       "      <th>rating</th>\n",
       "      <th>types</th>\n",
       "      <th>user_ratings_total</th>\n",
       "      <th>vicinity</th>\n",
       "      <th>permanently_closed</th>\n",
       "      <th>bar_lat</th>\n",
       "      <th>bar_lon</th>\n",
       "    </tr>\n",
       "  </thead>\n",
       "  <tbody>\n",
       "    <tr>\n",
       "      <th>0</th>\n",
       "      <td>OPERATIONAL</td>\n",
       "      <td>{'location': {'lat': 47.4731179, 'lng': 19.051...</td>\n",
       "      <td>Napközi Bisztró</td>\n",
       "      <td>ChIJu2fffK7dQUcRgbC2JH1_I24</td>\n",
       "      <td>{'compound_code': 'F3F2+6M Budapest, Hungary',...</td>\n",
       "      <td>2.0</td>\n",
       "      <td>3.8</td>\n",
       "      <td>[bar, point_of_interest, establishment]</td>\n",
       "      <td>470.0</td>\n",
       "      <td>Budapest 35, Október huszonharmadika utca 33</td>\n",
       "      <td>NaN</td>\n",
       "      <td>47.473118</td>\n",
       "      <td>19.051701</td>\n",
       "    </tr>\n",
       "    <tr>\n",
       "      <th>1</th>\n",
       "      <td>OPERATIONAL</td>\n",
       "      <td>{'location': {'lat': 47.4766196, 'lng': 19.052...</td>\n",
       "      <td>Pinyó Klub</td>\n",
       "      <td>ChIJZTGpDa3dQUcR1GFtzxxGDak</td>\n",
       "      <td>{'compound_code': 'F3G3+J3 Budapest, Hungary',...</td>\n",
       "      <td>2.0</td>\n",
       "      <td>4.2</td>\n",
       "      <td>[bar, point_of_interest, establishment]</td>\n",
       "      <td>897.0</td>\n",
       "      <td>Budapest, Karinthy Frigyes út 26</td>\n",
       "      <td>NaN</td>\n",
       "      <td>47.476620</td>\n",
       "      <td>19.052718</td>\n",
       "    </tr>\n",
       "    <tr>\n",
       "      <th>2</th>\n",
       "      <td>OPERATIONAL</td>\n",
       "      <td>{'location': {'lat': 47.4778761, 'lng': 19.051...</td>\n",
       "      <td>Black Dog Pub</td>\n",
       "      <td>ChIJU2nbW63dQUcRiUtmk5Vn6Fw</td>\n",
       "      <td>{'compound_code': 'F3H2+5P Budapest, Hungary',...</td>\n",
       "      <td>2.0</td>\n",
       "      <td>4.5</td>\n",
       "      <td>[bar, point_of_interest, establishment]</td>\n",
       "      <td>687.0</td>\n",
       "      <td>Budapest, Lágymányosi utca 12</td>\n",
       "      <td>NaN</td>\n",
       "      <td>47.477876</td>\n",
       "      <td>19.051786</td>\n",
       "    </tr>\n",
       "    <tr>\n",
       "      <th>3</th>\n",
       "      <td>OPERATIONAL</td>\n",
       "      <td>{'location': {'lat': 47.4750225, 'lng': 19.048...</td>\n",
       "      <td>Fruitisimo</td>\n",
       "      <td>ChIJjxoxCK7dQUcRPO000x4k6t0</td>\n",
       "      <td>{'compound_code': 'F2GX+2H Budapest, Hungary',...</td>\n",
       "      <td>NaN</td>\n",
       "      <td>3.7</td>\n",
       "      <td>[bar, store, food, point_of_interest, health, ...</td>\n",
       "      <td>57.0</td>\n",
       "      <td>Budapest, Október huszonharmadika utca 8-10</td>\n",
       "      <td>NaN</td>\n",
       "      <td>47.475023</td>\n",
       "      <td>19.048976</td>\n",
       "    </tr>\n",
       "    <tr>\n",
       "      <th>4</th>\n",
       "      <td>OPERATIONAL</td>\n",
       "      <td>{'location': {'lat': 47.4775751, 'lng': 19.051...</td>\n",
       "      <td>Happy Drink Bar</td>\n",
       "      <td>ChIJcbrFobLdQUcRYLkRKfyx0iU</td>\n",
       "      <td>{'compound_code': 'F3H2+2C Budapest, Hungary',...</td>\n",
       "      <td>1.0</td>\n",
       "      <td>4.7</td>\n",
       "      <td>[bar, point_of_interest, establishment]</td>\n",
       "      <td>527.0</td>\n",
       "      <td>Budapest, Bercsényi utca 12</td>\n",
       "      <td>NaN</td>\n",
       "      <td>47.477575</td>\n",
       "      <td>19.051113</td>\n",
       "    </tr>\n",
       "  </tbody>\n",
       "</table>\n",
       "</div>"
      ],
      "text/plain": [
       "  business_status                                           geometry  \\\n",
       "0     OPERATIONAL  {'location': {'lat': 47.4731179, 'lng': 19.051...   \n",
       "1     OPERATIONAL  {'location': {'lat': 47.4766196, 'lng': 19.052...   \n",
       "2     OPERATIONAL  {'location': {'lat': 47.4778761, 'lng': 19.051...   \n",
       "3     OPERATIONAL  {'location': {'lat': 47.4750225, 'lng': 19.048...   \n",
       "4     OPERATIONAL  {'location': {'lat': 47.4775751, 'lng': 19.051...   \n",
       "\n",
       "              name                     place_id  \\\n",
       "0  Napközi Bisztró  ChIJu2fffK7dQUcRgbC2JH1_I24   \n",
       "1       Pinyó Klub  ChIJZTGpDa3dQUcR1GFtzxxGDak   \n",
       "2    Black Dog Pub  ChIJU2nbW63dQUcRiUtmk5Vn6Fw   \n",
       "3       Fruitisimo  ChIJjxoxCK7dQUcRPO000x4k6t0   \n",
       "4  Happy Drink Bar  ChIJcbrFobLdQUcRYLkRKfyx0iU   \n",
       "\n",
       "                                           plus_code  price_level  rating  \\\n",
       "0  {'compound_code': 'F3F2+6M Budapest, Hungary',...          2.0     3.8   \n",
       "1  {'compound_code': 'F3G3+J3 Budapest, Hungary',...          2.0     4.2   \n",
       "2  {'compound_code': 'F3H2+5P Budapest, Hungary',...          2.0     4.5   \n",
       "3  {'compound_code': 'F2GX+2H Budapest, Hungary',...          NaN     3.7   \n",
       "4  {'compound_code': 'F3H2+2C Budapest, Hungary',...          1.0     4.7   \n",
       "\n",
       "                                               types  user_ratings_total  \\\n",
       "0            [bar, point_of_interest, establishment]               470.0   \n",
       "1            [bar, point_of_interest, establishment]               897.0   \n",
       "2            [bar, point_of_interest, establishment]               687.0   \n",
       "3  [bar, store, food, point_of_interest, health, ...                57.0   \n",
       "4            [bar, point_of_interest, establishment]               527.0   \n",
       "\n",
       "                                       vicinity permanently_closed    bar_lat  \\\n",
       "0  Budapest 35, Október huszonharmadika utca 33                NaN  47.473118   \n",
       "1              Budapest, Karinthy Frigyes út 26                NaN  47.476620   \n",
       "2                 Budapest, Lágymányosi utca 12                NaN  47.477876   \n",
       "3   Budapest, Október huszonharmadika utca 8-10                NaN  47.475023   \n",
       "4                   Budapest, Bercsényi utca 12                NaN  47.477575   \n",
       "\n",
       "     bar_lon  \n",
       "0  19.051701  \n",
       "1  19.052718  \n",
       "2  19.051786  \n",
       "3  19.048976  \n",
       "4  19.051113  "
      ]
     },
     "execution_count": 24,
     "metadata": {},
     "output_type": "execute_result"
    }
   ],
   "source": [
    "res.head()"
   ]
  },
  {
   "cell_type": "code",
   "execution_count": 27,
   "metadata": {},
   "outputs": [
    {
     "name": "stdout",
     "output_type": "stream",
     "text": [
      "16\n",
      "1170\n"
     ]
    }
   ],
   "source": [
    "print(res['permanently_closed'].count())\n",
    "print(res.size)"
   ]
  },
  {
   "cell_type": "code",
   "execution_count": 30,
   "metadata": {},
   "outputs": [
    {
     "name": "stderr",
     "output_type": "stream",
     "text": [
      "100%|██████████| 2/2 [00:04<00:00,  2.44s/it]\n"
     ]
    }
   ],
   "source": [
    "res2 = client.get_bars_ranged_batch(df,'radius')"
   ]
  },
  {
   "cell_type": "code",
   "execution_count": 31,
   "metadata": {},
   "outputs": [
    {
     "name": "stdout",
     "output_type": "stream",
     "text": [
      "7\n",
      "806\n"
     ]
    }
   ],
   "source": [
    "print(res2['permanently_closed'].count())\n",
    "print(res2.size)"
   ]
  }
 ],
 "metadata": {
  "kernelspec": {
   "display_name": "Python 3.10.7 ('.venv': venv)",
   "language": "python",
   "name": "python3"
  },
  "language_info": {
   "codemirror_mode": {
    "name": "ipython",
    "version": 3
   },
   "file_extension": ".py",
   "mimetype": "text/x-python",
   "name": "python",
   "nbconvert_exporter": "python",
   "pygments_lexer": "ipython3",
   "version": "3.10.7"
  },
  "orig_nbformat": 4,
  "vscode": {
   "interpreter": {
    "hash": "56d48e049c5f38a99814a13d57d9b14733e7babe9121e385a4af376c2ba0d414"
   }
  }
 },
 "nbformat": 4,
 "nbformat_minor": 2
}

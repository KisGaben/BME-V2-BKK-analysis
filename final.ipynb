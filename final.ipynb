{
 "cells": [
  {
   "cell_type": "markdown",
   "source": [
    "# Big Data házi feladat\n",
    "\n",
    "Készítők: Csilling Tamás és Knyihár Gábor\n",
    "\n",
    "## Feladatkiírás\n",
    "\n",
    "Azonosító: BKK3\n",
    "\n",
    "### Téma\n",
    "\n",
    "Az I épületből este 10-kor, tömegközlekedéssel elérhető \"kocsmák\" (i.e., Google Maps találat erre a keresésre) elemzése\n",
    "\n",
    "### Adatbeszerzés\n",
    "\n",
    "https://openmobilitydata.org/p/bkk/42 és pl. Google Places API\n",
    "\n",
    "### Adatelőkészítés és szűkítés\n",
    "\n",
    "A Google Places API (a free változat elég kell, hogy legyen) talán a fő kihívás, egyenértékes megoldást elfogadok\n",
    "\n",
    "### Leskálázás méretben \"small\" datára\n",
    "\n",
    "Valószínűleg nem szükséges\n",
    "\n",
    "### EDA fókusz\n",
    "\n",
    "Az I épület 10 perces sétatávolságában megállóval rendelkező éjszakai járatok alapvető jellemzői (javasolt:\n",
    "pandas_profiling vagy BambooLib)\n",
    "\n",
    "### Big Data vizualizáció\n",
    "\n",
    "Datashader alapú (lehet HoloViz-be integrálva) interaktív, Budapest-térkép alapú heatmap, mely az I épületből este 10-es\n",
    "indulással, átszállás nélkül való utazási időben vett távolságát mutatja a \"celláknak\" (cellán belül átlagolással, ha\n",
    "több opció is van). Természetesen vannak a városnak olyan részei, ahova átszállás nélkül nem lehet eljutni az\n",
    "egyetemről!\n",
    "\n",
    "### Elemzési feladat\n",
    "\n",
    "Algoritmus azon megállók megtalálására, ahova 45 perc alatt, max k átszállással el lehet jutni az I épületből este 10-es\n",
    "indulással. (Demonstráció elég k=1 vagy 2-re.)\n"
   ],
   "metadata": {
    "collapsed": false
   }
  },
  {
   "cell_type": "markdown",
   "source": [
    "## BKK adatok beszerzése\n",
    "\n",
    "Az adatok elérhetőek a [https://www.bkk.hu/gtfs/budapest_gtfs.zip](https://www.bkk.hu/gtfs/budapest_gtfs.zip) linken, melyek [GTFS](https://developers.google.com/transit/gtfs/reference) formátumban vannak. Az elérhető adatok struktúráját mutatja a következő ábra:\n",
    "\n",
    "![Chart](doc/assets/gtfs.png)\n",
    "\n",
    "Ezek számos felesleges adatot is tartalmaznak, így ezt átalakítottuk és összefésültük egy nagy adathalmazba. Az oszlopok megfeleltetéseit mutatja a következő táblázat.\n",
    "\n",
    "| Változó név                | Eredeti tábla | Eredeti név           |\n",
    "|----------------------------|---------------|-----------------------|\n",
    "| agency_name                | agency        | agency_name           |\n",
    "| route_name                 | routes        | route_short_name      |\n",
    "| route_type                 | routes        | route_type            |\n",
    "| route_desc                 | routes        | route_desc            |\n",
    "| trip_id                    | trips         | trip_id               |\n",
    "| trip_direction             | trips         | direction_id          |\n",
    "| trip_wheelchair_accessible | trips         | wheelchair_accessible |\n",
    "| trip_bikes_allowed         | trips         | bikes_allowed         |\n",
    "| trip_boarding_door         | trips         | boarding_door         |\n",
    "| stop_arrival_time          | stop_times    | arrival_time          |\n",
    "| stop_departure_time        | stop_times    | departure_time        |\n",
    "| stop_id                    | stops         | stop_id               |\n",
    "| stop_name                  | stops         | stop_name             |\n",
    "| stop_latitude              | stops         | stop_lat              |\n",
    "| stop_longitude             | stops         | stop_lon              |\n",
    "| stop_location_type         | stops         | location_type         |\n",
    "| stop_wheelchair_boarding   | stops         | wheelchair_boarding   |\n",
    "\n",
    "Ezen felül néhány érték esetében alapértelmezetten `NaN` értékek kerültek be a táblázatba, ezeket át kellett alakítani, valamint kezelni kellett a időformátumokat is. A GTFS-ben az éjfél után közlekedő járatok hivatalosan még az adott naphoz tartoznak, ezért például egy 01:00-kor közlekedő járat ideje 25:00-ként van megjelölve. Ez viszont értelmezhetetlen a programkódban, így ezeket is át kellett alakítani. Viszont jelölni kellett, hogy az a következő napon van, azért, hogy könnyen lehessen kezelni az összehasonlításokat. A végeredményt mentettük parquett fájlba."
   ],
   "metadata": {
    "collapsed": false
   }
  },
  {
   "cell_type": "code",
   "execution_count": 3,
   "metadata": {
    "collapsed": true
   },
   "outputs": [],
   "source": [
    "## ----- Imports -----\n",
    "\n",
    "from datetime import datetime, timedelta\n",
    "import os\n",
    "import requests\n",
    "import zipfile\n",
    "import pandas as pd\n",
    "import io\n",
    "\n",
    "## ----- Functions  -----\n",
    "\n",
    "def downloadFile(url, path, chunk_size=128):\n",
    "    \"\"\"Download zip file from url to path\"\"\"\n",
    "    if os.path.isfile(path):\n",
    "        return\n",
    "    r = requests.get(url, stream=True)\n",
    "    with open(path, 'wb') as fd:\n",
    "        for chunk in r.iter_content(chunk_size=chunk_size):\n",
    "            fd.write(chunk)\n",
    "\n",
    "def getDataFrameFromZip(path, filename):\n",
    "    \"\"\"Extract pandas dataframe from zip file\"\"\"\n",
    "    archive = zipfile.ZipFile(path, 'r')\n",
    "    csv = archive.read(filename).decode(\"utf-8\")\n",
    "    handler = io.StringIO(csv)\n",
    "    return pd.read_csv(handler,low_memory=False)\n",
    "\n",
    "def convertTime(time):\n",
    "    \"\"\"Convert time string to time objects\"\"\"\n",
    "    hours = int(time[0:2])\n",
    "    if hours < 24:\n",
    "        return datetime.strptime(time, \"%H:%M:%S\")\n",
    "    else:\n",
    "        new_time = str(hours-24).zfill(2) + time[2:]\n",
    "        return datetime.strptime(new_time, \"%H:%M:%S\") + timedelta(days=1)\n",
    "\n",
    "## ----- Variables -----\n",
    "\n",
    "url = \"https://www.bkk.hu/gtfs/budapest_gtfs.zip\"\n",
    "temp_folder = \"temp\"\n",
    "zip_path = \"temp/bkk.zip\"\n",
    "parquet_path = \"temp/bkk.parquet.gzip\"\n",
    "\n",
    "## ----- Script -----\n",
    "\n",
    "if not os.path.isdir(temp_folder):\n",
    "    os.mkdir(temp_folder)\n",
    "\n",
    "if not os.path.exists(parquet_path):\n",
    "    # Download zip file\n",
    "    downloadFile(url, zip_path)\n",
    "\n",
    "    # Collect and clean data\n",
    "    agency = getDataFrameFromZip(zip_path, \"agency.txt\")[[\"agency_id\", \"agency_name\"]].set_index(\"agency_id\")\n",
    "\n",
    "    routes = getDataFrameFromZip(zip_path,\"routes.txt\")[[\"agency_id\", \"route_id\", \"route_short_name\", \"route_type\", \"route_desc\"]].set_index([\"route_id\", \"agency_id\"])\n",
    "    routes[\"route_type\"] = routes[\"route_type\"].astype(int)\n",
    "    routes[\"route_type\"] = routes[\"route_type\"].replace([0,1,3,4,11,109],[0,1,2,3,4,5])\n",
    "    routes = routes.rename(columns={'route_short_name': 'route_name'})\n",
    "\n",
    "    trips = getDataFrameFromZip(zip_path,\"trips.txt\")[[\"route_id\", \"trip_id\", \"direction_id\",\"wheelchair_accessible\", \"bikes_allowed\", \"boarding_door\"]].set_index([\"trip_id\", \"route_id\"])\n",
    "    trips = trips.fillna(0)\n",
    "    trips[\"direction_id\"] = trips[\"direction_id\"].astype(int)\n",
    "    trips[\"wheelchair_accessible\"] = trips[\"wheelchair_accessible\"].astype(int)\n",
    "    trips[\"bikes_allowed\"] = trips[\"bikes_allowed\"].astype(int)\n",
    "    trips[\"boarding_door\"] = trips[\"boarding_door\"].astype(int)\n",
    "    trips[\"boarding_door\"] = trips[\"boarding_door\"].replace([0,2],[0,1])\n",
    "    trips = trips.rename(columns={'direction_id': 'trip_direction', 'wheelchair_accessible': 'trip_wheelchair_accessible', 'bikes_allowed':'trip_bikes_allowed', 'boarding_door': 'trip_boarding_door'})\n",
    "\n",
    "    stop_times = getDataFrameFromZip(zip_path,\"stop_times.txt\")[[\"stop_id\", \"trip_id\", \"arrival_time\", \"departure_time\"]].set_index([\"stop_id\", \"trip_id\"])\n",
    "    stop_times[\"departure_time\"] = stop_times.departure_time.apply(convertTime)\n",
    "    stop_times[\"arrival_time\"] = stop_times.arrival_time.apply(convertTime)\n",
    "    stop_times = stop_times.rename(columns={'arrival_time': 'stop_arrival_time', 'departure_time':'stop_departure_time'})\n",
    "\n",
    "    stops = getDataFrameFromZip(zip_path,\"stops.txt\")[[\"stop_id\", \"stop_name\", \"stop_lat\", \"stop_lon\", \"location_type\", \"wheelchair_boarding\"]].set_index(\"stop_id\")\n",
    "    stops = stops.fillna(0)\n",
    "    stops[\"location_type\"] = stops[\"location_type\"].astype(int)\n",
    "    stops[\"wheelchair_boarding\"] = stops[\"wheelchair_boarding\"].astype(int)\n",
    "    stops = stops.rename(columns={'stop_lat': 'stop_latitude', 'stop_lon':'stop_longitude', 'location_type':'stop_location_type', 'wheelchair_boarding': 'stop_wheelchair_boarding'})\n",
    "\n",
    "    # Join data and drop unnecessary columns\n",
    "    all_data = trips.join(routes).join(stop_times).join(stops).join(agency)\n",
    "    all_data = all_data.reset_index().drop(columns=[\"route_id\", \"agency_id\"])\n",
    "\n",
    "    # Order columns\n",
    "    all_data = all_data[[\"agency_name\",\"route_name\",\"route_type\",\"route_desc\", \"trip_id\", \"trip_direction\",  \"trip_wheelchair_accessible\", \"trip_bikes_allowed\",  \"trip_boarding_door\",  \"stop_arrival_time\", \"stop_departure_time\",  \"stop_id\", \"stop_name\", \"stop_latitude\", \"stop_longitude\", \"stop_location_type\", \"stop_wheelchair_boarding\"]]\n",
    "\n",
    "    # Export to parquet\n",
    "    all_data.to_parquet(parquet_path, compression='gzip')"
   ]
  },
  {
   "cell_type": "markdown",
   "source": [
    "## BKK adatok értelmezése\n",
    "\n",
    "Az adatokat parquet fájlból töltjük be, mely a következő oszlopokat tartalmazza:\n",
    "\n",
    "\n",
    "| Változó                    | Változó neve               | Típus      | Megengedett értékek                                             | Leírás                                                                |\n",
    "|----------------------------|----------------------------|------------|-----------------------------------------------------------------|-----------------------------------------------------------------------|\n",
    "| Szolgáltató neve           | agency_name                | Szöveg     |                                                                 | A szolgáltató teljes neve.                                            |\n",
    "| Járat neve                 | route_name                 | Szöveg     |                                                                 | Az járat rövid neve.                                                  |\n",
    "| Járat típusa               | route_type                 | Egész szám | 0 - villamos, 1 - metró, 2 - busz, 3 - hajó, 4 - troli, 5 - hév | A járatot kiszolgáló jármű típusa.                                    |\n",
    "| Járat leírása              | route_desc                 | Szöveg     |                                                                 | A járat rövid leírása.                                                |\n",
    "| Útvonal azonosítója        | trip_id                    | Szöveg     |                                                                 | Két megálló közötti utazás azonosítója.                               |\n",
    "| Útvonal iránya             | trip_direction             | Egész szám | 0 - normál, 1 - ellentétes                                      | Az utazás menetirányát jelzi.                                         |\n",
    "| Kerekesszékkel elérhető    | trip_wheelchair_accessible | Egész szám | 0 - ismeretlen, 1 - igen, 2 - nem                               | Azt jelzi, hogy a járaton kerekesszékkel lehetséges-e utazni.         |\n",
    "| Kerékpárok engedélyezettek | trip_bikes_allowed         | Egész szám | 0 - ismeretlen, 1 - igen, 2 - nem                               | Azt jelzi, hogy megengedett-e a kerékpár szállítás.                   |\n",
    "| Beszálló ajtó              | trip_boarding_door         | Egész szám | 0 - bármelyik, 1 - első ajtó                                    | Azt jelzi, hogy melyik ajtón lehet-e felszállni.                      |\n",
    "| Érkezési idő               | stop_arrival_time          | Idő        |                                                                 | Érkezési idő egy adott megállóhelyen egy adott utazáshoz.             |\n",
    "| Indulási idő               | stop_departure_time        | Idő        |                                                                 | Indulási idő egy adott megállóból egy adott utazáshoz.                |\n",
    "| Megálló azonosítója        | stop_id                    | Szöveg     |                                                                 | Megállóhelyet, állomást vagy állomás bejáratát azonosítja.            |\n",
    "| Megálló neve               | stop_name                  | Szöveg     |                                                                 | A megálló neve.                                                       |\n",
    "| Megálló helye (szélesség)  | stop_latitude              | Szám       | -90 - +90                                                       | A megálló koordinátájának szélességi foka.                            |\n",
    "| Megálló helye (hosszúság)  | stop_longitude             | Szám       | -180 - +180                                                     | A megálló kordinátájának hosszúsági foka.                             |\n",
    "| Megálló típusa             | stop_location_type         | Egész szám | 0 - megálló, 1 - állomás, 2 - állomás bejárat/kijárat           | A megálló típusa.                                                     |\n",
    "| Kerekesszékes beszállás    | stop_wheelchair_boarding   | Egész szám | 0 - ismeretlen, 1 - igen, 2 - nem                               | Azt jelzi, hogy a megállóból lehetséges-e a kerekesszékes felszállás. |"
   ],
   "metadata": {
    "collapsed": false
   }
  },
  {
   "cell_type": "code",
   "execution_count": 4,
   "outputs": [
    {
     "data": {
      "text/plain": "        agency_name route_name  route_type  \\\n0               BKK         7G           2   \n1               BKK         7G           2   \n2               BKK         7G           2   \n3               BKK         7G           2   \n4               BKK         7G           2   \n...             ...        ...         ...   \n5723094     MÁV-HÉV         H5           5   \n5723095     MÁV-HÉV         H5           5   \n5723096     MÁV-HÉV         H5           5   \n5723097     MÁV-HÉV         H5           5   \n5723098     MÁV-HÉV         H5           5   \n\n                                                route_desc   trip_id  \\\n0        Cinkotai autóbuszgarázs / Újpalota, Nyírpalota út   B870931   \n1        Cinkotai autóbuszgarázs / Újpalota, Nyírpalota út   B870931   \n2        Cinkotai autóbuszgarázs / Újpalota, Nyírpalota út   B870931   \n3        Cinkotai autóbuszgarázs / Újpalota, Nyírpalota út   B870931   \n4        Cinkotai autóbuszgarázs / Újpalota, Nyírpalota út   B870931   \n...                                                    ...       ...   \n5723094                         Batthyány tér / Szentendre  H8000_22   \n5723095                         Batthyány tér / Szentendre  H8000_22   \n5723096                         Batthyány tér / Szentendre  H8000_22   \n5723097                         Batthyány tér / Szentendre  H8000_22   \n5723098                         Batthyány tér / Szentendre  H8000_22   \n\n         trip_direction  trip_wheelchair_accessible  trip_bikes_allowed  \\\n0                     0                           1                   2   \n1                     0                           1                   2   \n2                     0                           1                   2   \n3                     0                           1                   2   \n4                     0                           1                   2   \n...                 ...                         ...                 ...   \n5723094               0                           0                   0   \n5723095               0                           0                   0   \n5723096               0                           0                   0   \n5723097               0                           0                   0   \n5723098               0                           0                   0   \n\n         trip_boarding_door   stop_arrival_time stop_departure_time stop_id  \\\n0                         0 1900-01-01 03:50:00 1900-01-01 03:50:00  008569   \n1                         0 1900-01-01 03:50:00 1900-01-01 03:50:00  F03291   \n2                         0 1900-01-01 03:51:00 1900-01-01 03:51:00  F03403   \n3                         0 1900-01-01 03:52:00 1900-01-01 03:52:00  F03402   \n4                         0 1900-01-01 03:53:00 1900-01-01 03:53:00  F03400   \n...                     ...                 ...                 ...     ...   \n5723094                   0 1900-01-02 00:48:00 1900-01-02 00:48:00  F04692   \n5723095                   0 1900-01-02 00:50:00 1900-01-02 00:50:00  F04793   \n5723096                   0 1900-01-02 00:52:00 1900-01-02 00:53:00  F04690   \n5723097                   0 1900-01-02 00:57:00 1900-01-02 00:57:00  F04688   \n5723098                   0 1900-01-02 01:00:00 1900-01-02 01:00:00  009273   \n\n                       stop_name  stop_latitude  stop_longitude  \\\n0        Cinkotai autóbuszgarázs      47.498051       19.236675   \n1                   Injekcióüzem      47.496206       19.231971   \n2             EGIS Gyógyszergyár      47.497054       19.224595   \n3                   Zsemlékes út      47.503095       19.214434   \n4                     Petőfi tér      47.506473       19.211007   \n...                          ...            ...             ...   \n5723094      Budakalász, Lenfonó      47.621692       19.046912   \n5723095         Szentistvántelep      47.629301       19.043159   \n5723096                    Pomáz      47.643188       19.032032   \n5723097            Pannóniatelep      47.652488       19.065294   \n5723098               Szentendre      47.661038       19.075607   \n\n         stop_location_type  stop_wheelchair_boarding  \n0                         0                         2  \n1                         0                         1  \n2                         0                         1  \n3                         0                         1  \n4                         0                         1  \n...                     ...                       ...  \n5723094                   0                         0  \n5723095                   0                         0  \n5723096                   0                         0  \n5723097                   0                         0  \n5723098                   0                         0  \n\n[5723099 rows x 17 columns]",
      "text/html": "<div>\n<style scoped>\n    .dataframe tbody tr th:only-of-type {\n        vertical-align: middle;\n    }\n\n    .dataframe tbody tr th {\n        vertical-align: top;\n    }\n\n    .dataframe thead th {\n        text-align: right;\n    }\n</style>\n<table border=\"1\" class=\"dataframe\">\n  <thead>\n    <tr style=\"text-align: right;\">\n      <th></th>\n      <th>agency_name</th>\n      <th>route_name</th>\n      <th>route_type</th>\n      <th>route_desc</th>\n      <th>trip_id</th>\n      <th>trip_direction</th>\n      <th>trip_wheelchair_accessible</th>\n      <th>trip_bikes_allowed</th>\n      <th>trip_boarding_door</th>\n      <th>stop_arrival_time</th>\n      <th>stop_departure_time</th>\n      <th>stop_id</th>\n      <th>stop_name</th>\n      <th>stop_latitude</th>\n      <th>stop_longitude</th>\n      <th>stop_location_type</th>\n      <th>stop_wheelchair_boarding</th>\n    </tr>\n  </thead>\n  <tbody>\n    <tr>\n      <th>0</th>\n      <td>BKK</td>\n      <td>7G</td>\n      <td>2</td>\n      <td>Cinkotai autóbuszgarázs / Újpalota, Nyírpalota út</td>\n      <td>B870931</td>\n      <td>0</td>\n      <td>1</td>\n      <td>2</td>\n      <td>0</td>\n      <td>1900-01-01 03:50:00</td>\n      <td>1900-01-01 03:50:00</td>\n      <td>008569</td>\n      <td>Cinkotai autóbuszgarázs</td>\n      <td>47.498051</td>\n      <td>19.236675</td>\n      <td>0</td>\n      <td>2</td>\n    </tr>\n    <tr>\n      <th>1</th>\n      <td>BKK</td>\n      <td>7G</td>\n      <td>2</td>\n      <td>Cinkotai autóbuszgarázs / Újpalota, Nyírpalota út</td>\n      <td>B870931</td>\n      <td>0</td>\n      <td>1</td>\n      <td>2</td>\n      <td>0</td>\n      <td>1900-01-01 03:50:00</td>\n      <td>1900-01-01 03:50:00</td>\n      <td>F03291</td>\n      <td>Injekcióüzem</td>\n      <td>47.496206</td>\n      <td>19.231971</td>\n      <td>0</td>\n      <td>1</td>\n    </tr>\n    <tr>\n      <th>2</th>\n      <td>BKK</td>\n      <td>7G</td>\n      <td>2</td>\n      <td>Cinkotai autóbuszgarázs / Újpalota, Nyírpalota út</td>\n      <td>B870931</td>\n      <td>0</td>\n      <td>1</td>\n      <td>2</td>\n      <td>0</td>\n      <td>1900-01-01 03:51:00</td>\n      <td>1900-01-01 03:51:00</td>\n      <td>F03403</td>\n      <td>EGIS Gyógyszergyár</td>\n      <td>47.497054</td>\n      <td>19.224595</td>\n      <td>0</td>\n      <td>1</td>\n    </tr>\n    <tr>\n      <th>3</th>\n      <td>BKK</td>\n      <td>7G</td>\n      <td>2</td>\n      <td>Cinkotai autóbuszgarázs / Újpalota, Nyírpalota út</td>\n      <td>B870931</td>\n      <td>0</td>\n      <td>1</td>\n      <td>2</td>\n      <td>0</td>\n      <td>1900-01-01 03:52:00</td>\n      <td>1900-01-01 03:52:00</td>\n      <td>F03402</td>\n      <td>Zsemlékes út</td>\n      <td>47.503095</td>\n      <td>19.214434</td>\n      <td>0</td>\n      <td>1</td>\n    </tr>\n    <tr>\n      <th>4</th>\n      <td>BKK</td>\n      <td>7G</td>\n      <td>2</td>\n      <td>Cinkotai autóbuszgarázs / Újpalota, Nyírpalota út</td>\n      <td>B870931</td>\n      <td>0</td>\n      <td>1</td>\n      <td>2</td>\n      <td>0</td>\n      <td>1900-01-01 03:53:00</td>\n      <td>1900-01-01 03:53:00</td>\n      <td>F03400</td>\n      <td>Petőfi tér</td>\n      <td>47.506473</td>\n      <td>19.211007</td>\n      <td>0</td>\n      <td>1</td>\n    </tr>\n    <tr>\n      <th>...</th>\n      <td>...</td>\n      <td>...</td>\n      <td>...</td>\n      <td>...</td>\n      <td>...</td>\n      <td>...</td>\n      <td>...</td>\n      <td>...</td>\n      <td>...</td>\n      <td>...</td>\n      <td>...</td>\n      <td>...</td>\n      <td>...</td>\n      <td>...</td>\n      <td>...</td>\n      <td>...</td>\n      <td>...</td>\n    </tr>\n    <tr>\n      <th>5723094</th>\n      <td>MÁV-HÉV</td>\n      <td>H5</td>\n      <td>5</td>\n      <td>Batthyány tér / Szentendre</td>\n      <td>H8000_22</td>\n      <td>0</td>\n      <td>0</td>\n      <td>0</td>\n      <td>0</td>\n      <td>1900-01-02 00:48:00</td>\n      <td>1900-01-02 00:48:00</td>\n      <td>F04692</td>\n      <td>Budakalász, Lenfonó</td>\n      <td>47.621692</td>\n      <td>19.046912</td>\n      <td>0</td>\n      <td>0</td>\n    </tr>\n    <tr>\n      <th>5723095</th>\n      <td>MÁV-HÉV</td>\n      <td>H5</td>\n      <td>5</td>\n      <td>Batthyány tér / Szentendre</td>\n      <td>H8000_22</td>\n      <td>0</td>\n      <td>0</td>\n      <td>0</td>\n      <td>0</td>\n      <td>1900-01-02 00:50:00</td>\n      <td>1900-01-02 00:50:00</td>\n      <td>F04793</td>\n      <td>Szentistvántelep</td>\n      <td>47.629301</td>\n      <td>19.043159</td>\n      <td>0</td>\n      <td>0</td>\n    </tr>\n    <tr>\n      <th>5723096</th>\n      <td>MÁV-HÉV</td>\n      <td>H5</td>\n      <td>5</td>\n      <td>Batthyány tér / Szentendre</td>\n      <td>H8000_22</td>\n      <td>0</td>\n      <td>0</td>\n      <td>0</td>\n      <td>0</td>\n      <td>1900-01-02 00:52:00</td>\n      <td>1900-01-02 00:53:00</td>\n      <td>F04690</td>\n      <td>Pomáz</td>\n      <td>47.643188</td>\n      <td>19.032032</td>\n      <td>0</td>\n      <td>0</td>\n    </tr>\n    <tr>\n      <th>5723097</th>\n      <td>MÁV-HÉV</td>\n      <td>H5</td>\n      <td>5</td>\n      <td>Batthyány tér / Szentendre</td>\n      <td>H8000_22</td>\n      <td>0</td>\n      <td>0</td>\n      <td>0</td>\n      <td>0</td>\n      <td>1900-01-02 00:57:00</td>\n      <td>1900-01-02 00:57:00</td>\n      <td>F04688</td>\n      <td>Pannóniatelep</td>\n      <td>47.652488</td>\n      <td>19.065294</td>\n      <td>0</td>\n      <td>0</td>\n    </tr>\n    <tr>\n      <th>5723098</th>\n      <td>MÁV-HÉV</td>\n      <td>H5</td>\n      <td>5</td>\n      <td>Batthyány tér / Szentendre</td>\n      <td>H8000_22</td>\n      <td>0</td>\n      <td>0</td>\n      <td>0</td>\n      <td>0</td>\n      <td>1900-01-02 01:00:00</td>\n      <td>1900-01-02 01:00:00</td>\n      <td>009273</td>\n      <td>Szentendre</td>\n      <td>47.661038</td>\n      <td>19.075607</td>\n      <td>0</td>\n      <td>0</td>\n    </tr>\n  </tbody>\n</table>\n<p>5723099 rows × 17 columns</p>\n</div>"
     },
     "metadata": {},
     "output_type": "display_data"
    }
   ],
   "source": [
    "df = pd.read_parquet(parquet_path)\n",
    "display(df)"
   ],
   "metadata": {
    "collapsed": false
   }
  },
  {
   "cell_type": "markdown",
   "source": [],
   "metadata": {
    "collapsed": false
   }
  }
 ],
 "metadata": {
  "kernelspec": {
   "display_name": "Python 3",
   "language": "python",
   "name": "python3"
  },
  "language_info": {
   "codemirror_mode": {
    "name": "ipython",
    "version": 2
   },
   "file_extension": ".py",
   "mimetype": "text/x-python",
   "name": "python",
   "nbconvert_exporter": "python",
   "pygments_lexer": "ipython2",
   "version": "2.7.6"
  }
 },
 "nbformat": 4,
 "nbformat_minor": 0
}
